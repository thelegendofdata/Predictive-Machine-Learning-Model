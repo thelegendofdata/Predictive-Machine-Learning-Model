{
 "cells": [
  {
   "cell_type": "markdown",
   "metadata": {},
   "source": [
    "# Introduction \n",
    "Zyfra, a leader in efficiency-boosting solutions for the heavy industry sector, has initiated a project to create a predictive machine learning model for gold recovery from gold ore. The key objective of this model is to refine production processes and phase out unprofitable parameters, effectively maximizing overall efficiency.  \n",
    "\n",
    "To reach this goal, the project encompasses the following stages:  \n",
    "\n",
    "**Data Preparation**: Amass and preprocess pertinent data on gold extraction and refinement.  \n",
    "\n",
    "**Data Analysis**: Implement comprehensive data analysis to uncover crucial patterns and insights.  \n",
    "\n",
    "**Model Development and Training**: Design and educate a machine learning model for precise gold recovery prediction.  \n",
    "\n",
    "The strategy relies on sophisticated machine learning methodologies to yield practical insights, thus leading to improved decision-making and operational enhancements in gold recovery processes."
   ]
  },
  {
   "cell_type": "code",
   "execution_count": 1,
   "metadata": {},
   "outputs": [],
   "source": [
    "import pandas as pd\n",
    "import numpy as np\n",
    "import matplotlib.pyplot as plt\n",
    "from math import sqrt\n",
    "\n",
    "from sklearn.metrics import mean_squared_error, mean_absolute_error, make_scorer\n",
    "from sklearn.model_selection import train_test_split, cross_val_score, GridSearchCV\n",
    "from sklearn.preprocessing import StandardScaler\n",
    "\n",
    "from sklearn.ensemble import RandomForestRegressor\n",
    "from sklearn.linear_model import LinearRegression\n",
    "from sklearn.tree import DecisionTreeRegressor\n"
   ]
  },
  {
   "cell_type": "code",
   "execution_count": 2,
   "metadata": {},
   "outputs": [],
   "source": [
    "gold_train = pd.read_csv('datasets/gold_recovery_train.csv')\n",
    "gold_test = pd.read_csv('datasets/gold_recovery_test.csv') \n",
    "gold_full = pd.read_csv('datasets/gold_recovery_full.csv')"
   ]
  },
  {
   "cell_type": "code",
   "execution_count": 25,
   "metadata": {},
   "outputs": [
    {
     "name": "stdout",
     "output_type": "stream",
     "text": [
      "(16860, 87)\n",
      "(5856, 53)\n",
      "(22716, 87)\n"
     ]
    }
   ],
   "source": [
    "print(gold_train.shape)\n",
    "print(gold_test.shape)\n",
    "print(gold_full.shape)"
   ]
  },
  {
   "cell_type": "code",
   "execution_count": 26,
   "metadata": {},
   "outputs": [
    {
     "name": "stdout",
     "output_type": "stream",
     "text": [
      "Duplicated values in gold_train: 0 \n",
      "Duplicated values in gold_test: 0 \n",
      "Duplicated values in gold_full: 0 \n"
     ]
    }
   ],
   "source": [
    "print(f\"Duplicated values in gold_train: {gold_train.duplicated().sum()} \")\n",
    "print(f\"Duplicated values in gold_test: {gold_test.duplicated().sum()} \")\n",
    "print(f\"Duplicated values in gold_full: {gold_full.duplicated().sum()} \")"
   ]
  },
  {
   "cell_type": "code",
   "execution_count": 27,
   "metadata": {},
   "outputs": [
    {
     "name": "stdout",
     "output_type": "stream",
     "text": [
      "Missing values in gold_train:\n",
      "date                                            0\n",
      "final.output.concentrate_ag                    72\n",
      "final.output.concentrate_pb                    72\n",
      "final.output.concentrate_sol                  370\n",
      "final.output.concentrate_au                    71\n",
      "                                             ... \n",
      "secondary_cleaner.state.floatbank5_a_level     85\n",
      "secondary_cleaner.state.floatbank5_b_air       85\n",
      "secondary_cleaner.state.floatbank5_b_level     84\n",
      "secondary_cleaner.state.floatbank6_a_air      103\n",
      "secondary_cleaner.state.floatbank6_a_level     85\n",
      "Length: 87, dtype: int64\n",
      "\n",
      "Missing values in gold_test:\n",
      "date                                            0\n",
      "primary_cleaner.input.sulfate                 302\n",
      "primary_cleaner.input.depressant              284\n",
      "primary_cleaner.input.feed_size                 0\n",
      "primary_cleaner.input.xanthate                166\n",
      "primary_cleaner.state.floatbank8_a_air         16\n",
      "primary_cleaner.state.floatbank8_a_level       16\n",
      "primary_cleaner.state.floatbank8_b_air         16\n",
      "primary_cleaner.state.floatbank8_b_level       16\n",
      "primary_cleaner.state.floatbank8_c_air         16\n",
      "primary_cleaner.state.floatbank8_c_level       16\n",
      "primary_cleaner.state.floatbank8_d_air         16\n",
      "primary_cleaner.state.floatbank8_d_level       16\n",
      "rougher.input.feed_ag                          16\n",
      "rougher.input.feed_pb                          16\n",
      "rougher.input.feed_rate                        40\n",
      "rougher.input.feed_size                        22\n",
      "rougher.input.feed_sol                         67\n",
      "rougher.input.feed_au                          16\n",
      "rougher.input.floatbank10_sulfate             257\n",
      "rougher.input.floatbank10_xanthate            123\n",
      "rougher.input.floatbank11_sulfate              55\n",
      "rougher.input.floatbank11_xanthate            353\n",
      "rougher.state.floatbank10_a_air                17\n",
      "rougher.state.floatbank10_a_level              16\n",
      "rougher.state.floatbank10_b_air                17\n",
      "rougher.state.floatbank10_b_level              16\n",
      "rougher.state.floatbank10_c_air                17\n",
      "rougher.state.floatbank10_c_level              16\n",
      "rougher.state.floatbank10_d_air                17\n",
      "rougher.state.floatbank10_d_level              16\n",
      "rougher.state.floatbank10_e_air                17\n",
      "rougher.state.floatbank10_e_level              16\n",
      "rougher.state.floatbank10_f_air                17\n",
      "rougher.state.floatbank10_f_level              16\n",
      "secondary_cleaner.state.floatbank2_a_air       20\n",
      "secondary_cleaner.state.floatbank2_a_level     16\n",
      "secondary_cleaner.state.floatbank2_b_air       23\n",
      "secondary_cleaner.state.floatbank2_b_level     16\n",
      "secondary_cleaner.state.floatbank3_a_air       34\n",
      "secondary_cleaner.state.floatbank3_a_level     16\n",
      "secondary_cleaner.state.floatbank3_b_air       16\n",
      "secondary_cleaner.state.floatbank3_b_level     16\n",
      "secondary_cleaner.state.floatbank4_a_air       16\n",
      "secondary_cleaner.state.floatbank4_a_level     16\n",
      "secondary_cleaner.state.floatbank4_b_air       16\n",
      "secondary_cleaner.state.floatbank4_b_level     16\n",
      "secondary_cleaner.state.floatbank5_a_air       16\n",
      "secondary_cleaner.state.floatbank5_a_level     16\n",
      "secondary_cleaner.state.floatbank5_b_air       16\n",
      "secondary_cleaner.state.floatbank5_b_level     16\n",
      "secondary_cleaner.state.floatbank6_a_air       16\n",
      "secondary_cleaner.state.floatbank6_a_level     16\n",
      "dtype: int64\n",
      "\n",
      "Missing values in gold_full:\n",
      "date                                            0\n",
      "final.output.concentrate_ag                    89\n",
      "final.output.concentrate_pb                    87\n",
      "final.output.concentrate_sol                  385\n",
      "final.output.concentrate_au                    86\n",
      "                                             ... \n",
      "secondary_cleaner.state.floatbank5_a_level    101\n",
      "secondary_cleaner.state.floatbank5_b_air      101\n",
      "secondary_cleaner.state.floatbank5_b_level    100\n",
      "secondary_cleaner.state.floatbank6_a_air      119\n",
      "secondary_cleaner.state.floatbank6_a_level    101\n",
      "Length: 87, dtype: int64\n",
      "\n"
     ]
    }
   ],
   "source": [
    "print(f\"Missing values in gold_train:\\n{gold_train.isna().sum()}\\n\")\n",
    "print(f\"Missing values in gold_test:\\n{gold_test.isna().sum()}\\n\")\n",
    "print(f\"Missing values in gold_full:\\n{gold_full.isna().sum()}\\n\")\n"
   ]
  },
  {
   "cell_type": "code",
   "execution_count": 28,
   "metadata": {},
   "outputs": [],
   "source": [
    "def calc_recovery(data, calc_type=\"rougher\"):\n",
    "    '''Returns the input dataframe with a {calc_type}.calculated.recovery column for either the rougher or final yield (default is 'rougher') and a Pandas series containing the recovery values.\n",
    "    Recovery is calculated using the following equation: ((C * (F-T)) / (F * (C-T))) * 100. '''\n",
    "    \n",
    "    C = data[f'{calc_type}.output.concentrate_au']\n",
    "    T = data[f'{calc_type}.output.tail_au']\n",
    "    F = data['rougher.input.feed_au'] if calc_type == \"rougher\" else data['rougher.output.concentrate_au']\n",
    "    \n",
    "    recovery = ((C * (F-T)) / (F * (C-T))) * 100\n",
    "    \n",
    "    print(f\"Calculated Recovery for '{calc_type}' \\n{recovery}\")\n",
    "    \n",
    "    # Add recovery to dataframe\n",
    "    data[f'{calc_type}.calculated.recovery'] = recovery\n",
    "    \n",
    "    # Replace infinity values with NaN (if needed)\n",
    "    data[f'{calc_type}.calculated.recovery'].replace([np.inf, -np.inf], np.nan, inplace=True)\n",
    "    \n",
    "    return data, recovery"
   ]
  },
  {
   "cell_type": "code",
   "execution_count": 29,
   "metadata": {},
   "outputs": [
    {
     "name": "stdout",
     "output_type": "stream",
     "text": [
      "Calculated Recovery for 'rougher' \n",
      "0        87.107763\n",
      "1        86.843261\n",
      "2        86.842308\n",
      "3        87.226430\n",
      "4        86.688794\n",
      "           ...    \n",
      "16855    89.574376\n",
      "16856    87.724007\n",
      "16857    88.890579\n",
      "16858    89.858126\n",
      "16859    89.514960\n",
      "Length: 14287, dtype: float64\n",
      "Actual Recovery for 'rougher':\n",
      "0        87.107763\n",
      "1        86.843261\n",
      "2        86.842308\n",
      "3        87.226430\n",
      "4        86.688794\n",
      "           ...    \n",
      "16855    89.574376\n",
      "16856    87.724007\n",
      "16857    88.890579\n",
      "16858    89.858126\n",
      "16859    89.514960\n",
      "Name: rougher.output.recovery, Length: 14287, dtype: float64\n"
     ]
    },
    {
     "name": "stderr",
     "output_type": "stream",
     "text": [
      "/tmp/ipykernel_32/211960037.py:14: SettingWithCopyWarning: \n",
      "A value is trying to be set on a copy of a slice from a DataFrame.\n",
      "Try using .loc[row_indexer,col_indexer] = value instead\n",
      "\n",
      "See the caveats in the documentation: https://pandas.pydata.org/pandas-docs/stable/user_guide/indexing.html#returning-a-view-versus-a-copy\n",
      "  data[f'{calc_type}.calculated.recovery'] = recovery\n",
      "/opt/conda/envs/python3/lib/python3.9/site-packages/pandas/core/series.py:4509: SettingWithCopyWarning: \n",
      "A value is trying to be set on a copy of a slice from a DataFrame\n",
      "\n",
      "See the caveats in the documentation: https://pandas.pydata.org/pandas-docs/stable/user_guide/indexing.html#returning-a-view-versus-a-copy\n",
      "  return super().replace(\n"
     ]
    }
   ],
   "source": [
    "# Calcuate rougher recovery for gold_train\n",
    "gold_train, predicted_recovery_values = calc_recovery(gold_train.dropna(subset=['rougher.output.recovery']), calc_type=\"rougher\")\n",
    "\n",
    "#Grab values for actual recovery\n",
    "actual_recovery_values = gold_train['rougher.output.recovery']\n",
    "\n",
    "print(f\"Actual Recovery for 'rougher':\\n{actual_recovery_values}\")\n"
   ]
  },
  {
   "cell_type": "code",
   "execution_count": 30,
   "metadata": {},
   "outputs": [
    {
     "name": "stdout",
     "output_type": "stream",
     "text": [
      "0\n",
      "0\n"
     ]
    }
   ],
   "source": [
    "print(actual_recovery_values.isna().sum())\n",
    "print(predicted_recovery_values.isna().sum())"
   ]
  },
  {
   "cell_type": "code",
   "execution_count": 31,
   "metadata": {},
   "outputs": [
    {
     "name": "stdout",
     "output_type": "stream",
     "text": [
      "Mean Absolute Error (MAE) between actual and calculated recovery values: 9.303415616264301e-15\n"
     ]
    }
   ],
   "source": [
    "valid_indices = ~predicted_recovery_values.isin([np.nan, np.inf, -np.inf])\n",
    "actual_recovery_values = actual_recovery_values[valid_indices]\n",
    "predicted_recovery_values = predicted_recovery_values[valid_indices]\n",
    "\n",
    "#Calculate MAE between actual and calculated recovery values\n",
    "mae = mean_absolute_error(actual_recovery_values, predicted_recovery_values)\n",
    "\n",
    "print(f\"Mean Absolute Error (MAE) between actual and calculated recovery values: {mae}\")"
   ]
  },
  {
   "cell_type": "markdown",
   "metadata": {},
   "source": [
    "<div class=\"alert alert-success\">\n",
    "<b>Reviewer's comment</b>\n",
    "\n",
    "Correct\n",
    "\n",
    "</div>"
   ]
  },
  {
   "cell_type": "code",
   "execution_count": 32,
   "metadata": {},
   "outputs": [
    {
     "name": "stdout",
     "output_type": "stream",
     "text": [
      "<class 'pandas.core.frame.DataFrame'>\n",
      "Int64Index: 14287 entries, 0 to 16859\n",
      "Data columns (total 88 columns):\n",
      " #   Column                                              Non-Null Count  Dtype  \n",
      "---  ------                                              --------------  -----  \n",
      " 0   date                                                14287 non-null  object \n",
      " 1   final.output.concentrate_ag                         14287 non-null  float64\n",
      " 2   final.output.concentrate_pb                         14287 non-null  float64\n",
      " 3   final.output.concentrate_sol                        14287 non-null  float64\n",
      " 4   final.output.concentrate_au                         14287 non-null  float64\n",
      " 5   final.output.recovery                               14287 non-null  float64\n",
      " 6   final.output.tail_ag                                14287 non-null  float64\n",
      " 7   final.output.tail_pb                                14287 non-null  float64\n",
      " 8   final.output.tail_sol                               14287 non-null  float64\n",
      " 9   final.output.tail_au                                14287 non-null  float64\n",
      " 10  primary_cleaner.input.sulfate                       14287 non-null  float64\n",
      " 11  primary_cleaner.input.depressant                    14287 non-null  float64\n",
      " 12  primary_cleaner.input.feed_size                     14287 non-null  float64\n",
      " 13  primary_cleaner.input.xanthate                      14287 non-null  float64\n",
      " 14  primary_cleaner.output.concentrate_ag               14287 non-null  float64\n",
      " 15  primary_cleaner.output.concentrate_pb               14287 non-null  float64\n",
      " 16  primary_cleaner.output.concentrate_sol              14287 non-null  float64\n",
      " 17  primary_cleaner.output.concentrate_au               14287 non-null  float64\n",
      " 18  primary_cleaner.output.tail_ag                      14287 non-null  float64\n",
      " 19  primary_cleaner.output.tail_pb                      14287 non-null  float64\n",
      " 20  primary_cleaner.output.tail_sol                     14287 non-null  float64\n",
      " 21  primary_cleaner.output.tail_au                      14287 non-null  float64\n",
      " 22  primary_cleaner.state.floatbank8_a_air              14287 non-null  float64\n",
      " 23  primary_cleaner.state.floatbank8_a_level            14287 non-null  float64\n",
      " 24  primary_cleaner.state.floatbank8_b_air              14287 non-null  float64\n",
      " 25  primary_cleaner.state.floatbank8_b_level            14287 non-null  float64\n",
      " 26  primary_cleaner.state.floatbank8_c_air              14287 non-null  float64\n",
      " 27  primary_cleaner.state.floatbank8_c_level            14287 non-null  float64\n",
      " 28  primary_cleaner.state.floatbank8_d_air              14287 non-null  float64\n",
      " 29  primary_cleaner.state.floatbank8_d_level            14287 non-null  float64\n",
      " 30  rougher.calculation.sulfate_to_au_concentrate       14287 non-null  float64\n",
      " 31  rougher.calculation.floatbank10_sulfate_to_au_feed  14287 non-null  float64\n",
      " 32  rougher.calculation.floatbank11_sulfate_to_au_feed  14287 non-null  float64\n",
      " 33  rougher.calculation.au_pb_ratio                     14287 non-null  float64\n",
      " 34  rougher.input.feed_ag                               14287 non-null  float64\n",
      " 35  rougher.input.feed_pb                               14287 non-null  float64\n",
      " 36  rougher.input.feed_rate                             14287 non-null  float64\n",
      " 37  rougher.input.feed_size                             14287 non-null  float64\n",
      " 38  rougher.input.feed_sol                              14287 non-null  float64\n",
      " 39  rougher.input.feed_au                               14287 non-null  float64\n",
      " 40  rougher.input.floatbank10_sulfate                   14287 non-null  float64\n",
      " 41  rougher.input.floatbank10_xanthate                  14287 non-null  float64\n",
      " 42  rougher.input.floatbank11_sulfate                   14287 non-null  float64\n",
      " 43  rougher.input.floatbank11_xanthate                  14287 non-null  float64\n",
      " 44  rougher.output.concentrate_ag                       14287 non-null  float64\n",
      " 45  rougher.output.concentrate_pb                       14287 non-null  float64\n",
      " 46  rougher.output.concentrate_sol                      14287 non-null  float64\n",
      " 47  rougher.output.concentrate_au                       14287 non-null  float64\n",
      " 48  rougher.output.recovery                             14287 non-null  float64\n",
      " 49  rougher.output.tail_ag                              14287 non-null  float64\n",
      " 50  rougher.output.tail_pb                              14287 non-null  float64\n",
      " 51  rougher.output.tail_sol                             14287 non-null  float64\n",
      " 52  rougher.output.tail_au                              14287 non-null  float64\n",
      " 53  rougher.state.floatbank10_a_air                     14287 non-null  float64\n",
      " 54  rougher.state.floatbank10_a_level                   14287 non-null  float64\n",
      " 55  rougher.state.floatbank10_b_air                     14287 non-null  float64\n",
      " 56  rougher.state.floatbank10_b_level                   14287 non-null  float64\n",
      " 57  rougher.state.floatbank10_c_air                     14287 non-null  float64\n",
      " 58  rougher.state.floatbank10_c_level                   14287 non-null  float64\n",
      " 59  rougher.state.floatbank10_d_air                     14287 non-null  float64\n",
      " 60  rougher.state.floatbank10_d_level                   14287 non-null  float64\n",
      " 61  rougher.state.floatbank10_e_air                     14287 non-null  float64\n",
      " 62  rougher.state.floatbank10_e_level                   14287 non-null  float64\n",
      " 63  rougher.state.floatbank10_f_air                     14287 non-null  float64\n",
      " 64  rougher.state.floatbank10_f_level                   14287 non-null  float64\n",
      " 65  secondary_cleaner.output.tail_ag                    14287 non-null  float64\n",
      " 66  secondary_cleaner.output.tail_pb                    14287 non-null  float64\n",
      " 67  secondary_cleaner.output.tail_sol                   14287 non-null  float64\n",
      " 68  secondary_cleaner.output.tail_au                    14287 non-null  float64\n",
      " 69  secondary_cleaner.state.floatbank2_a_air            14287 non-null  float64\n",
      " 70  secondary_cleaner.state.floatbank2_a_level          14287 non-null  float64\n",
      " 71  secondary_cleaner.state.floatbank2_b_air            14287 non-null  float64\n",
      " 72  secondary_cleaner.state.floatbank2_b_level          14287 non-null  float64\n",
      " 73  secondary_cleaner.state.floatbank3_a_air            14287 non-null  float64\n",
      " 74  secondary_cleaner.state.floatbank3_a_level          14287 non-null  float64\n",
      " 75  secondary_cleaner.state.floatbank3_b_air            14287 non-null  float64\n",
      " 76  secondary_cleaner.state.floatbank3_b_level          14287 non-null  float64\n",
      " 77  secondary_cleaner.state.floatbank4_a_air            14287 non-null  float64\n",
      " 78  secondary_cleaner.state.floatbank4_a_level          14287 non-null  float64\n",
      " 79  secondary_cleaner.state.floatbank4_b_air            14287 non-null  float64\n",
      " 80  secondary_cleaner.state.floatbank4_b_level          14287 non-null  float64\n",
      " 81  secondary_cleaner.state.floatbank5_a_air            14287 non-null  float64\n",
      " 82  secondary_cleaner.state.floatbank5_a_level          14287 non-null  float64\n",
      " 83  secondary_cleaner.state.floatbank5_b_air            14287 non-null  float64\n",
      " 84  secondary_cleaner.state.floatbank5_b_level          14287 non-null  float64\n",
      " 85  secondary_cleaner.state.floatbank6_a_air            14287 non-null  float64\n",
      " 86  secondary_cleaner.state.floatbank6_a_level          14287 non-null  float64\n",
      " 87  rougher.calculated.recovery                         14287 non-null  float64\n",
      "dtypes: float64(87), object(1)\n",
      "memory usage: 9.7+ MB\n"
     ]
    }
   ],
   "source": [
    "gold_train.fillna(method='ffill', inplace=True)\n",
    "gold_train.info()"
   ]
  },
  {
   "cell_type": "code",
   "execution_count": 33,
   "metadata": {},
   "outputs": [
    {
     "name": "stdout",
     "output_type": "stream",
     "text": [
      "<class 'pandas.core.frame.DataFrame'>\n",
      "RangeIndex: 5856 entries, 0 to 5855\n",
      "Data columns (total 53 columns):\n",
      " #   Column                                      Non-Null Count  Dtype  \n",
      "---  ------                                      --------------  -----  \n",
      " 0   date                                        5856 non-null   object \n",
      " 1   primary_cleaner.input.sulfate               5856 non-null   float64\n",
      " 2   primary_cleaner.input.depressant            5856 non-null   float64\n",
      " 3   primary_cleaner.input.feed_size             5856 non-null   float64\n",
      " 4   primary_cleaner.input.xanthate              5856 non-null   float64\n",
      " 5   primary_cleaner.state.floatbank8_a_air      5856 non-null   float64\n",
      " 6   primary_cleaner.state.floatbank8_a_level    5856 non-null   float64\n",
      " 7   primary_cleaner.state.floatbank8_b_air      5856 non-null   float64\n",
      " 8   primary_cleaner.state.floatbank8_b_level    5856 non-null   float64\n",
      " 9   primary_cleaner.state.floatbank8_c_air      5856 non-null   float64\n",
      " 10  primary_cleaner.state.floatbank8_c_level    5856 non-null   float64\n",
      " 11  primary_cleaner.state.floatbank8_d_air      5856 non-null   float64\n",
      " 12  primary_cleaner.state.floatbank8_d_level    5856 non-null   float64\n",
      " 13  rougher.input.feed_ag                       5856 non-null   float64\n",
      " 14  rougher.input.feed_pb                       5856 non-null   float64\n",
      " 15  rougher.input.feed_rate                     5856 non-null   float64\n",
      " 16  rougher.input.feed_size                     5856 non-null   float64\n",
      " 17  rougher.input.feed_sol                      5856 non-null   float64\n",
      " 18  rougher.input.feed_au                       5856 non-null   float64\n",
      " 19  rougher.input.floatbank10_sulfate           5856 non-null   float64\n",
      " 20  rougher.input.floatbank10_xanthate          5856 non-null   float64\n",
      " 21  rougher.input.floatbank11_sulfate           5856 non-null   float64\n",
      " 22  rougher.input.floatbank11_xanthate          5856 non-null   float64\n",
      " 23  rougher.state.floatbank10_a_air             5856 non-null   float64\n",
      " 24  rougher.state.floatbank10_a_level           5856 non-null   float64\n",
      " 25  rougher.state.floatbank10_b_air             5856 non-null   float64\n",
      " 26  rougher.state.floatbank10_b_level           5856 non-null   float64\n",
      " 27  rougher.state.floatbank10_c_air             5856 non-null   float64\n",
      " 28  rougher.state.floatbank10_c_level           5856 non-null   float64\n",
      " 29  rougher.state.floatbank10_d_air             5856 non-null   float64\n",
      " 30  rougher.state.floatbank10_d_level           5856 non-null   float64\n",
      " 31  rougher.state.floatbank10_e_air             5856 non-null   float64\n",
      " 32  rougher.state.floatbank10_e_level           5856 non-null   float64\n",
      " 33  rougher.state.floatbank10_f_air             5856 non-null   float64\n",
      " 34  rougher.state.floatbank10_f_level           5856 non-null   float64\n",
      " 35  secondary_cleaner.state.floatbank2_a_air    5856 non-null   float64\n",
      " 36  secondary_cleaner.state.floatbank2_a_level  5856 non-null   float64\n",
      " 37  secondary_cleaner.state.floatbank2_b_air    5856 non-null   float64\n",
      " 38  secondary_cleaner.state.floatbank2_b_level  5856 non-null   float64\n",
      " 39  secondary_cleaner.state.floatbank3_a_air    5856 non-null   float64\n",
      " 40  secondary_cleaner.state.floatbank3_a_level  5856 non-null   float64\n",
      " 41  secondary_cleaner.state.floatbank3_b_air    5856 non-null   float64\n",
      " 42  secondary_cleaner.state.floatbank3_b_level  5856 non-null   float64\n",
      " 43  secondary_cleaner.state.floatbank4_a_air    5856 non-null   float64\n",
      " 44  secondary_cleaner.state.floatbank4_a_level  5856 non-null   float64\n",
      " 45  secondary_cleaner.state.floatbank4_b_air    5856 non-null   float64\n",
      " 46  secondary_cleaner.state.floatbank4_b_level  5856 non-null   float64\n",
      " 47  secondary_cleaner.state.floatbank5_a_air    5856 non-null   float64\n",
      " 48  secondary_cleaner.state.floatbank5_a_level  5856 non-null   float64\n",
      " 49  secondary_cleaner.state.floatbank5_b_air    5856 non-null   float64\n",
      " 50  secondary_cleaner.state.floatbank5_b_level  5856 non-null   float64\n",
      " 51  secondary_cleaner.state.floatbank6_a_air    5856 non-null   float64\n",
      " 52  secondary_cleaner.state.floatbank6_a_level  5856 non-null   float64\n",
      "dtypes: float64(52), object(1)\n",
      "memory usage: 2.4+ MB\n"
     ]
    }
   ],
   "source": [
    "gold_test.fillna(method='ffill', inplace=True)\n",
    "gold_test.info()"
   ]
  },
  {
   "cell_type": "markdown",
   "metadata": {},
   "source": [
    "<div class=\"alert alert-success\">\n",
    "<b>Reviewer's comment</b>\n",
    "\n",
    "Good job\n",
    "\n",
    "</div>"
   ]
  },
  {
   "cell_type": "code",
   "execution_count": 34,
   "metadata": {},
   "outputs": [
    {
     "name": "stdout",
     "output_type": "stream",
     "text": [
      "rougher.output.concentrate_sol                        float64\n",
      "final.output.tail_ag                                  float64\n",
      "primary_cleaner.output.tail_pb                        float64\n",
      "rougher.output.concentrate_ag                         float64\n",
      "primary_cleaner.output.concentrate_au                 float64\n",
      "final.output.concentrate_pb                           float64\n",
      "final.output.concentrate_au                           float64\n",
      "primary_cleaner.output.concentrate_sol                float64\n",
      "final.output.tail_pb                                  float64\n",
      "rougher.calculated.recovery                           float64\n",
      "rougher.output.tail_pb                                float64\n",
      "rougher.calculation.sulfate_to_au_concentrate         float64\n",
      "secondary_cleaner.output.tail_sol                     float64\n",
      "rougher.calculation.floatbank11_sulfate_to_au_feed    float64\n",
      "rougher.calculation.au_pb_ratio                       float64\n",
      "final.output.tail_au                                  float64\n",
      "primary_cleaner.output.tail_au                        float64\n",
      "secondary_cleaner.output.tail_ag                      float64\n",
      "rougher.calculation.floatbank10_sulfate_to_au_feed    float64\n",
      "primary_cleaner.output.tail_sol                       float64\n",
      "final.output.tail_sol                                 float64\n",
      "rougher.output.concentrate_pb                         float64\n",
      "primary_cleaner.output.tail_ag                        float64\n",
      "primary_cleaner.output.concentrate_ag                 float64\n",
      "secondary_cleaner.output.tail_pb                      float64\n",
      "final.output.concentrate_sol                          float64\n",
      "primary_cleaner.output.concentrate_pb                 float64\n",
      "rougher.output.recovery                               float64\n",
      "rougher.output.tail_au                                float64\n",
      "rougher.output.concentrate_au                         float64\n",
      "rougher.output.tail_sol                               float64\n",
      "rougher.output.tail_ag                                float64\n",
      "secondary_cleaner.output.tail_au                      float64\n",
      "final.output.concentrate_ag                           float64\n",
      "final.output.recovery                                 float64\n",
      "dtype: object\n",
      "date                                          0.000000\n",
      "final.output.concentrate_ag                   0.003918\n",
      "final.output.concentrate_pb                   0.003830\n",
      "final.output.concentrate_sol                  0.016948\n",
      "final.output.concentrate_au                   0.003786\n",
      "                                                ...   \n",
      "secondary_cleaner.state.floatbank5_a_level    0.004446\n",
      "secondary_cleaner.state.floatbank5_b_air      0.004446\n",
      "secondary_cleaner.state.floatbank5_b_level    0.004402\n",
      "secondary_cleaner.state.floatbank6_a_air      0.005239\n",
      "secondary_cleaner.state.floatbank6_a_level    0.004446\n",
      "Length: 87, dtype: float64\n"
     ]
    }
   ],
   "source": [
    "#finding the missing columns\n",
    "missing_columns = set(gold_train.columns) - set(gold_test.columns)\n",
    "\n",
    "# Convert the set to a list for easier processing\n",
    "missing_list = list(missing_columns)\n",
    "\n",
    "# Get the data types of the missing columns\n",
    "missing_columns_types = gold_train[missing_list].dtypes\n",
    "\n",
    "# Display the types of the missing columns\n",
    "print(missing_columns_types)\n",
    "\n",
    "\n",
    "# Calculate the mean of missing values in each column\n",
    "missing_values_mean = gold_full.isnull().mean()\n",
    "\n",
    "# Print the result\n",
    "print(missing_values_mean)"
   ]
  },
  {
   "cell_type": "markdown",
   "metadata": {},
   "source": [
    "---"
   ]
  },
  {
   "cell_type": "markdown",
   "metadata": {},
   "source": [
    "<div class=\"alert alert-success\">\n",
    "<b>Reviewer's comment</b>\n",
    "\n",
    "Correct\n",
    "\n",
    "</div>"
   ]
  },
  {
   "cell_type": "markdown",
   "metadata": {},
   "source": [
    "# 2 Analyze Data"
   ]
  },
  {
   "cell_type": "code",
   "execution_count": 35,
   "metadata": {},
   "outputs": [
    {
     "data": {
      "image/png": "[encoded data removed]",
      "text/plain": [
       "<Figure size 1500x1000 with 3 Axes>"
      ]
     },
     "metadata": {},
     "output_type": "display_data"
    }
   ],
   "source": [
    "stages = ['rougher.input.feed', 'rougher', 'primary_cleaner', 'final']\n",
    "metals = ['au', 'ag', 'pb']\n",
    "\n",
    "# Plot histograms for each metal\n",
    "plt.figure(figsize=(15, 10))\n",
    "\n",
    "for i, metal in enumerate(metals, 1):\n",
    "    plt.subplot(3, 1, i)\n",
    "    for stage in stages:\n",
    "        column_name = f'{stage}.output.concentrate_{metal}' if stage != 'rougher.input.feed' else f'{stage}_{metal}'\n",
    "        plt.hist(gold_full[column_name], bins=30, alpha=0.5, label=stage)\n",
    "    plt.title(f'Distribution of {metal.upper()} Concentration Across Purification Stages')\n",
    "    plt.xlabel('Concentration')\n",
    "    plt.ylabel('Distribution')\n",
    "    plt.legend()\n",
    "    plt.grid(True)\n",
    "\n",
    "plt.tight_layout()\n",
    "plt.show()"
   ]
  },
  {
   "cell_type": "markdown",
   "metadata": {},
   "source": [
    "**Concentration of Gold (Au)**  \n",
    "\n",
    "Rougher Input Feed: Gold possesses a notably high initial concentration, exhibited in a wide-ranging distribution.  \n",
    "\n",
    "Rougher: A minor decrease in gold concentration follows the rougher phase, hinting at some level of purification.  \n",
    "\n",
    "Primary Cleaner: The gold concentration reduction continues, implying additional purification.  \n",
    "\n",
    "Final: The concluding stage showcases the minimal gold concentration, which signals the utmost purification.  \n",
    "\n",
    "**Silver (Ag) Concentration Levels**  \n",
    "\n",
    "Rougher Input Feed: Silver begins with a high concentration that is distributed widely.  \n",
    "\n",
    "Rougher: A marked decrease in concentration is observed post the rougher stage.  \n",
    "\n",
    "Primary Cleaner: The concentration sustains the downward trajectory, demonstrating an effective purification.  \n",
    "\n",
    "Final: The ultimate stage exhibits the least silver concentration, thus signifying a successful purification.  \n",
    "\n",
    "**Lead (Pb) Concentration Levels**  \n",
    "\n",
    "Rougher Input Feed: Lead concentration starts off high, dispersed over a wide distribution.  \n",
    "\n",
    "Rougher: The concentration diminishes following the rougher stage.  \n",
    "\n",
    "Primary Cleaner: The concentration goes on decreasing, indicating a further purification.  \n",
    "\n",
    "Final: The last stage reveals the smallest concentration of lead, denoting effective purification.  \n",
    "\n",
    "General Remarks\n",
    "Purification Efficacy: Each purification stage notably diminishes the concentration of metals (Au, Ag, Pb). The concluding stage persistently reveals the lowest concentrations, symbolizing the highest purification level.\n",
    "Distribution Patterns: The concentration distribution of metals narrows down and veers towards lesser values as the purification stages advance. This suggests that the process not only lessens the average concentration but also standardizes the distribution."
   ]
  },
  {
   "cell_type": "markdown",
   "metadata": {},
   "source": [
    "<div class=\"alert alert-success\">\n",
    "<b>Reviewer's comment</b>\n",
    "\n",
    "Well done!\n",
    "\n",
    "</div>"
   ]
  },
  {
   "cell_type": "code",
   "execution_count": 36,
   "metadata": {},
   "outputs": [
    {
     "data": {
      "image/png": "[encoded data removed]",
      "text/plain": [
       "<Figure size 1200x600 with 1 Axes>"
      ]
     },
     "metadata": {},
     "output_type": "display_data"
    },
    {
     "name": "stdout",
     "output_type": "stream",
     "text": [
      "Training Set Feed Particle Size Summary:\n",
      "count    14287.000000\n",
      "mean        60.179089\n",
      "std         22.985089\n",
      "min          9.659576\n",
      "25%         48.932377\n",
      "50%         55.251872\n",
      "75%         65.976914\n",
      "max        484.967466\n",
      "Name: rougher.input.feed_size, dtype: float64\n",
      "Test Set Feed Particle Size Summary:\n",
      "count    5856.000000\n",
      "mean       55.898866\n",
      "std        22.707969\n",
      "min         0.046369\n",
      "25%        43.852884\n",
      "50%        49.964796\n",
      "75%        61.628003\n",
      "max       477.445473\n",
      "Name: rougher.input.feed_size, dtype: float64\n"
     ]
    }
   ],
   "source": [
    "import matplotlib.pyplot as plt\n",
    "\n",
    "plt.figure(figsize=(12, 6))\n",
    "\n",
    "# Overlay normalized histograms for training and test sets\n",
    "plt.hist(gold_train['rougher.input.feed_size'], bins=50, alpha=0.7, label='Train', color='purple',density=True)\n",
    "plt.hist(gold_test['rougher.input.feed_size'], bins=50, alpha=0.7, label='Test', color='red',density=True)\n",
    "\n",
    "plt.title('Feed Particle Size Distribution - Training vs Test Set')\n",
    "plt.xlabel('Feed Particle Size')\n",
    "plt.ylabel('Frequency')\n",
    "plt.legend()\n",
    "plt.grid(True)\n",
    "\n",
    "plt.tight_layout()\n",
    "plt.show()\n",
    "\n",
    "train_summary = gold_train['rougher.input.feed_size'].describe()\n",
    "test_summary = gold_test['rougher.input.feed_size'].describe()\n",
    "\n",
    "print(f\"Training Set Feed Particle Size Summary:\\n{train_summary}\")\n",
    "print(f\"Test Set Feed Particle Size Summary:\\n{test_summary}\")\n"
   ]
  },
  {
   "cell_type": "markdown",
   "metadata": {},
   "source": [
    "It's important to note the substantial variation in feed particle size distributions seen when comparing the training set to the test set:  \n",
    "\n",
    "**Training Set**: This set demonstrates a pronounced presence of smaller particle sizes, but this presence quickly dwindles as the particle size grows.  \n",
    "**Test Set**: Starting off, this set depicts a less numerous occurrence of minute sizes than in the training set and shows a more gradual decrease.  \n",
    "These variations hint at a potential misalignment between the training and test sets concerning feed particle size distribution. This misalignment could influence the performance of the model.  "
   ]
  },
  {
   "cell_type": "markdown",
   "metadata": {},
   "source": [
    "<div class=\"alert alert-danger\">\n",
    "<b>Reviewer's comment</b>\n",
    "\n",
    "Correct, but:\n",
    "    \n",
    "1. When you need to compare distributions with different number of observations you need to plot normalized histograms to avoid dependence on the number of observations. So, please, fix it.\n",
    "2. For ML models it's okay when distributions are not 100% the same. It's enough that they are just similar.\n",
    "\n",
    "</div>"
   ]
  },
  {
   "cell_type": "markdown",
   "metadata": {},
   "source": [
    "<div class=\"alert alert-success\">\n",
    "<b>Reviewer's comment V2</b>\n",
    "\n",
    "Good job! As you can see these distributions are really similar and so it shouldn't be a problem for any ML model\n",
    "\n",
    "</div>"
   ]
  },
  {
   "cell_type": "code",
   "execution_count": 37,
   "metadata": {},
   "outputs": [
    {
     "data": {
      "image/png": "[encoded data removed]",
      "text/plain": [
       "<Figure size 1800x600 with 3 Axes>"
      ]
     },
     "metadata": {},
     "output_type": "display_data"
    }
   ],
   "source": [
    "# Calculating total concentrations for training \n",
    "gold_train['total_concentration_raw_feed'] = gold_train[['rougher.input.feed_au', 'rougher.input.feed_ag', 'rougher.input.feed_pb']].sum(axis=1)\n",
    "gold_train['total_concentration_rougher'] = gold_train[['rougher.output.concentrate_au', 'rougher.output.concentrate_ag', 'rougher.output.concentrate_pb']].sum(axis=1)\n",
    "gold_train['total_concentration_final'] = gold_train[['final.output.concentrate_au', 'final.output.concentrate_ag', 'final.output.concentrate_pb']].sum(axis=1)\n",
    "\n",
    "# Plotting the concentrations\n",
    "plt.figure(figsize=(18, 6))\n",
    "\n",
    "# Training set\n",
    "plt.subplot(2, 2, 1)\n",
    "plt.hist(gold_train['total_concentration_raw_feed'], bins=50, alpha=0.7, label='Train - Raw Feed')\n",
    "plt.title('Total Concentration - Raw Feed (Train)')\n",
    "plt.xlabel('Total Concentration')\n",
    "plt.ylabel('Frequency')\n",
    "plt.legend()\n",
    "\n",
    "plt.subplot(2, 2, 2)\n",
    "plt.hist(gold_train['total_concentration_rougher'], bins=50, alpha=0.7, label='Train - Rougher Concentrate', color='pink')\n",
    "plt.title('Total Concentration - Rougher Concentrate (Train)')\n",
    "plt.xlabel('Total Concentration')\n",
    "plt.ylabel('Frequency')\n",
    "plt.legend()\n",
    "\n",
    "plt.subplot(2, 2, 3)\n",
    "plt.hist(gold_train['total_concentration_final'], bins=50, alpha=0.7, label='Train - Final Concentrate', color='blue')\n",
    "plt.title('Total Concentration - Final Concentrate (Train)')\n",
    "plt.xlabel('Total Concentration')\n",
    "plt.ylabel('Frequency')\n",
    "plt.legend()\n",
    "\n",
    "plt.tight_layout()\n",
    "plt.show()"
   ]
  },
  {
   "cell_type": "code",
   "execution_count": 38,
   "metadata": {},
   "outputs": [
    {
     "data": {
      "image/png": "[encoded data removed]",
      "text/plain": [
       "<Figure size 1800x600 with 3 Axes>"
      ]
     },
     "metadata": {},
     "output_type": "display_data"
    }
   ],
   "source": [
    "# Calculating concentrations for test set\n",
    "gold_test['total_concentration_raw_feed'] = gold_test[['rougher.input.feed_au', 'rougher.input.feed_ag', 'rougher.input.feed_pb']].sum(axis=1)\n",
    "gold_test['total_concentration_rougher'] = gold_test[['rougher.input.feed_au', 'rougher.input.feed_ag', 'rougher.input.feed_pb']].sum(axis=1)\n",
    "gold_test['total_concentration_final'] = gold_test[['rougher.input.feed_au', 'rougher.input.feed_ag', 'rougher.input.feed_pb']].sum(axis=1)\n",
    "\n",
    "# Plotting total concentrations\n",
    "plt.figure(figsize=(18, 6))\n",
    "\n",
    "# Test set\n",
    "plt.subplot(2, 2, 1)\n",
    "plt.hist(gold_test['total_concentration_raw_feed'], bins=50, alpha=0.7, label='Test - Raw Feed')\n",
    "plt.title('Total Concentration - Raw Feed (Test)')\n",
    "plt.xlabel('Total Concentration')\n",
    "plt.ylabel('Frequency')\n",
    "plt.legend()\n",
    "\n",
    "plt.subplot(2, 2, 2)\n",
    "plt.hist(gold_test['total_concentration_rougher'], bins=50, alpha=0.7, label='Test - Rougher Concentrate', color='orange')\n",
    "plt.title('Total Concentration - Rougher Concentrate (Test)')\n",
    "plt.xlabel('Total Concentration')\n",
    "plt.ylabel('Frequency')\n",
    "plt.legend()\n",
    "\n",
    "plt.subplot(2, 2, 3)\n",
    "plt.hist(gold_test['total_concentration_final'], bins=50, alpha=0.7, label='Test - Final Concentrate', color='green')\n",
    "plt.title('Total Concentration - Final Concentrate (Test)')\n",
    "plt.xlabel('Total Concentration')\n",
    "plt.ylabel('Frequency')\n",
    "plt.legend()\n",
    "\n",
    "plt.tight_layout()\n",
    "plt.show()"
   ]
  },
  {
   "cell_type": "code",
   "execution_count": 39,
   "metadata": {},
   "outputs": [],
   "source": [
    "gold_train['total_concentration_raw_feed'] = gold_train[['rougher.input.feed_au', 'rougher.input.feed_ag', 'rougher.input.feed_pb']].sum(axis=1)\n",
    "gold_train['total_concentration_rougher'] = gold_train[['rougher.output.concentrate_au', 'rougher.output.concentrate_ag', 'rougher.output.concentrate_pb']].sum(axis=1)\n",
    "gold_train['total_concentration_final'] = gold_train[['final.output.concentrate_au', 'final.output.concentrate_ag', 'final.output.concentrate_pb']].sum(axis=1)\n",
    "\n",
    "# Calculate total concentrations at each stage for test set\n",
    "gold_test['total_concentration_raw_feed'] = gold_test[['rougher.input.feed_au', 'rougher.input.feed_ag', 'rougher.input.feed_pb']].sum(axis=1)\n",
    "gold_test['total_concentration_rougher'] = gold_test[['rougher.input.feed_au', 'rougher.input.feed_ag', 'rougher.input.feed_pb']].sum(axis=1)\n",
    "gold_test['total_concentration_final'] = gold_test[['rougher.input.feed_au', 'rougher.input.feed_ag', 'rougher.input.feed_pb']].sum(axis=1)\n",
    "\n",
    "# Remove rows with zero concentration values\n",
    "gold_train = gold_train[(gold_train['total_concentration_raw_feed'] > 0) | \n",
    "                    (gold_train['total_concentration_rougher'] > 0) | \n",
    "                    (gold_train['total_concentration_final'] > 0)]\n",
    "\n",
    "gold_test = gold_test[(gold_test['total_concentration_raw_feed'] > 0) | \n",
    "                  (gold_test['total_concentration_rougher'] > 0) | \n",
    "                  (gold_test['total_concentration_final'] > 0)]\n",
    "\n"
   ]
  },
  {
   "cell_type": "code",
   "execution_count": 40,
   "metadata": {},
   "outputs": [
    {
     "name": "stdout",
     "output_type": "stream",
     "text": [
      "(14287, 91)\n",
      "(5485, 56)\n"
     ]
    }
   ],
   "source": [
    "print(gold_train.shape)\n",
    "print(gold_test.shape)"
   ]
  },
  {
   "cell_type": "code",
   "execution_count": 41,
   "metadata": {},
   "outputs": [
    {
     "data": {
      "image/png": "[encoded data removed]",
      "text/plain": [
       "<Figure size 1800x1200 with 3 Axes>"
      ]
     },
     "metadata": {},
     "output_type": "display_data"
    }
   ],
   "source": [
    "plt.figure(figsize=(18, 12))\n",
    "\n",
    "# Training set\n",
    "plt.subplot(2, 2, 1)\n",
    "plt.hist(gold_train['total_concentration_raw_feed'], bins=50, alpha=0.7, label='Train - Raw Feed')\n",
    "plt.title('Total Concentration - Raw Feed (Train)')\n",
    "plt.xlabel('Total Concentration')\n",
    "plt.ylabel('Frequency')\n",
    "plt.legend()\n",
    "\n",
    "plt.subplot(2, 2, 2)\n",
    "plt.hist(gold_train['total_concentration_rougher'], bins=50, alpha=0.7, label='Train - Rougher Concentrate', color='orange')\n",
    "plt.title('Total Concentration - Rougher Concentrate (Train)')\n",
    "plt.xlabel('Total Concentration')\n",
    "plt.ylabel('Frequency')\n",
    "plt.legend()\n",
    "\n",
    "plt.subplot(2, 2, 3)\n",
    "plt.hist(gold_train['total_concentration_final'], bins=50, alpha=0.7, label='Train - Final Concentrate', color='green')\n",
    "plt.title('Total Concentration - Final Concentrate (Train)')\n",
    "plt.xlabel('Total Concentration')\n",
    "plt.ylabel('Frequency')\n",
    "plt.legend()\n",
    "\n",
    "plt.tight_layout()\n",
    "plt.show()"
   ]
  },
  {
   "cell_type": "code",
   "execution_count": 42,
   "metadata": {
    "scrolled": true
   },
   "outputs": [
    {
     "data": {
      "image/png": "[encoded data removed]",
      "text/plain": [
       "<Figure size 1800x1200 with 3 Axes>"
      ]
     },
     "metadata": {},
     "output_type": "display_data"
    }
   ],
   "source": [
    "plt.figure(figsize=(18, 12))\n",
    "\n",
    "# Test set\n",
    "plt.subplot(2, 2, 1)\n",
    "plt.hist(gold_test['total_concentration_raw_feed'], bins=50, alpha=0.7, label='Test - Raw Feed')\n",
    "plt.title('Total Concentration - Raw Feed (Test)')\n",
    "plt.xlabel('Total Concentration')\n",
    "plt.ylabel('Frequency')\n",
    "plt.legend()\n",
    "\n",
    "plt.subplot(2, 2, 2)\n",
    "plt.hist(gold_test['total_concentration_rougher'], bins=50, alpha=0.7, label='Test - Rougher Concentrate', color='orange')\n",
    "plt.title('Total Concentration - Rougher Concentrate (Test)')\n",
    "plt.xlabel('Total Concentration')\n",
    "plt.ylabel('Frequency')\n",
    "plt.legend()\n",
    "\n",
    "plt.subplot(2, 2, 3)\n",
    "plt.hist(gold_test['total_concentration_final'], bins=50, alpha=0.7, label='Test - Final Concentrate', color='green')\n",
    "plt.title('Total Concentration - Final Concentrate (Test)')\n",
    "plt.xlabel('Total Concentration')\n",
    "plt.ylabel('Frequency')\n",
    "plt.legend()\n",
    "\n",
    "plt.tight_layout()\n",
    "plt.show()"
   ]
  },
  {
   "cell_type": "markdown",
   "metadata": {},
   "source": [
    "<div class=\"alert alert-warning\">\n",
    "<b>Reviewer's comment</b>\n",
    "\n",
    "Good job! But I would change & to | in you filter condition because it's not okay to have total zero concentration at any single stage and not only on all stages at once.\n",
    "</div>"
   ]
  },
  {
   "cell_type": "markdown",
   "metadata": {},
   "source": [
    "<div class=\"alert alert-success\">\n",
    "<b>Reviewer's comment V2</b>\n",
    "\n",
    "Correct\n",
    "</div>"
   ]
  },
  {
   "cell_type": "markdown",
   "metadata": {},
   "source": [
    "# 3 Build the Model"
   ]
  },
  {
   "cell_type": "code",
   "execution_count": 43,
   "metadata": {},
   "outputs": [],
   "source": [
    "def preprocess_df(df):\n",
    "    # Convert the 'date' column to datetime format\n",
    "    df['date'] = pd.to_datetime(df['date'])\n",
    "\n",
    "    # Extract year, month, day, and hour as new features\n",
    "    df['year'] = df['date'].dt.year\n",
    "    df['month'] = df['date'].dt.month\n",
    "    df['day'] = df['date'].dt.day\n",
    "    df['hour'] = df['date'].dt.hour\n",
    "\n",
    "    # Convert 'date' to timestamp and then to float32\n",
    "    df['date'] = df['date'].astype(np.int64) / 10**9  # Convert to seconds\n",
    "    df['date'] = df['date'].astype('float32')\n",
    "\n",
    "    return df"
   ]
  },
  {
   "cell_type": "code",
   "execution_count": 51,
   "metadata": {},
   "outputs": [],
   "source": [
    "def smape(target, pred):\n",
    "    N = len(target)\n",
    "    smape_value = (1 / N) * np.sum(2 * np.abs(pred - target) / (np.abs(target) + np.abs(pred)))\n",
    "    return smape_value\n",
    "\n",
    "def fsmape(target, pred):\n",
    "    if isinstance(target, pd.DataFrame) or isinstance(target, pd.Series):\n",
    "        target = target.values\n",
    "    if isinstance(pred, pd.DataFrame) or isinstance(pred, pd.Series):\n",
    "        pred = pred.values\n",
    "    if target.ndim == 1:\n",
    "        target = target.reshape(-1, 2)\n",
    "    if pred.ndim == 1:\n",
    "        pred = pred.reshape(-1, 2)\n",
    "    rougher_smape = smape(target[:, 0], pred[:, 0])\n",
    "    final_smape = smape(target[:, 1], pred[:, 1])\n",
    "    fsmape_value = (0.25 * rougher_smape) + (0.75 * final_smape)\n",
    "    return fsmape_value\n",
    "\n",
    "# Create sMAPE scorer\n",
    "smape_scorer = make_scorer(smape, greater_is_better=False)\n"
   ]
  },
  {
   "cell_type": "code",
   "execution_count": 44,
   "metadata": {},
   "outputs": [],
   "source": [
    "gold_train = preprocess_df(gold_train)\n",
    "gold_test = preprocess_df(gold_test)\n",
    "gold_full = preprocess_df(gold_full)"
   ]
  },
  {
   "cell_type": "code",
   "execution_count": 45,
   "metadata": {},
   "outputs": [],
   "source": [
    "# Replace positive and negative infinity with a large finite number\n",
    "gold_train = gold_train.replace([np.inf, -np.inf], np.finfo('float32').max)\n",
    "gold_test = gold_test.replace([np.inf, -np.inf], np.finfo('float32').max)\n",
    "gold_full = gold_full.replace([np.inf, -np.inf], np.finfo('float32').max)"
   ]
  },
  {
   "cell_type": "code",
   "execution_count": 46,
   "metadata": {},
   "outputs": [],
   "source": [
    "# Convert all columns to float32\n",
    "gold_train = gold_train.astype('float64')\n",
    "gold_test = gold_test.astype('float64')\n",
    "gold_full = gold_full.astype('float64')\n",
    "\n",
    "# Identify the features present in the test set but not in the training set\n",
    "train_features = set(gold_train.columns)\n",
    "test_features = set(gold_test.columns)\n",
    "features_to_remove = train_features - test_features\n",
    "\n",
    "# Drop these features from the training set\n",
    "gold_train = gold_train.drop(columns=[col for col in features_to_remove if col in gold_train.columns])"
   ]
  },
  {
   "cell_type": "code",
   "execution_count": 60,
   "metadata": {},
   "outputs": [],
   "source": [
    "gold_full.fillna(method='ffill',inplace=True)"
   ]
  },
  {
   "cell_type": "code",
   "execution_count": 61,
   "metadata": {},
   "outputs": [
    {
     "data": {
      "text/plain": [
       "date                                          0\n",
       "final.output.concentrate_ag                   0\n",
       "final.output.concentrate_pb                   0\n",
       "final.output.concentrate_sol                  0\n",
       "final.output.concentrate_au                   0\n",
       "                                             ..\n",
       "secondary_cleaner.state.floatbank6_a_level    0\n",
       "year                                          0\n",
       "month                                         0\n",
       "day                                           0\n",
       "hour                                          0\n",
       "Length: 91, dtype: int64"
      ]
     },
     "execution_count": 61,
     "metadata": {},
     "output_type": "execute_result"
    }
   ],
   "source": [
    "gold_full.isna().sum()"
   ]
  },
  {
   "cell_type": "code",
   "execution_count": 62,
   "metadata": {},
   "outputs": [],
   "source": [
    "gold_full_test = gold_test.merge(gold_full, on='date', how='left')\n",
    "\n",
    "features_test = gold_full_test.drop(['rougher.output.recovery', 'final.output.recovery'], axis=1) \n",
    "\n",
    "# Make sure to only include the target columns here\n",
    "target_test = gold_full_test[['rougher.output.recovery', 'final.output.recovery']]\n",
    "\n",
    "\n",
    "gold_full_train = gold_train.merge(gold_full, on='date', how='left')\n",
    "features = gold_full_train.drop(columns=['rougher.output.recovery', 'final.output.recovery']) \n",
    "target = gold_full_train[['rougher.output.recovery', 'final.output.recovery']]  \n",
    "\n",
    "# Split the data into training and validation sets\n",
    "features_train, features_val, target_train, target_val = train_test_split(features, target, test_size=0.2, random_state=42)\n"
   ]
  },
  {
   "cell_type": "code",
   "execution_count": 63,
   "metadata": {},
   "outputs": [
    {
     "name": "stdout",
     "output_type": "stream",
     "text": [
      "Shape of features_train: (11429, 148)\n",
      "Shape of features_test: (5485, 148)\n"
     ]
    }
   ],
   "source": [
    "# Identify columns present in one dataframe but not the other\n",
    "train_columns = set(features_train.columns)\n",
    "test_columns = set(features_test.columns)\n",
    "\n",
    "# Columns to add to features_train\n",
    "columns_to_add = test_columns - train_columns\n",
    "# Columns to remove from features_test\n",
    "columns_to_remove = train_columns - test_columns\n",
    "\n",
    "# Add missing columns to features_train with default value \n",
    "for column in columns_to_add:\n",
    "    features_train.loc[:, column] = 1\n",
    "\n",
    "# Remove extra columns from features_test if they exist\n",
    "features_test = features_test.drop(columns=[col for col in columns_to_remove if col in features_test.columns])\n",
    "\n",
    "# Ensure the columns are in the same order\n",
    "features_train = features_train[features_test.columns]\n",
    "\n",
    "print(\"Shape of features_train:\", features_train.shape)\n",
    "print(\"Shape of features_test:\", features_test.shape)"
   ]
  },
  {
   "cell_type": "markdown",
   "metadata": {},
   "source": [
    "<div class=\"alert alert-warning\">\n",
    "<b>Reviewer's comment</b>\n",
    "\n",
    "Correct. But you filled NaNs previously with better method than to fill NaNs with mean values. So, what is the purpose to try to fill NaNs here again?\n",
    "   \n",
    "</div>"
   ]
  },
  {
   "cell_type": "markdown",
   "metadata": {},
   "source": [
    "<div class=\"alert alert-danger\">\n",
    "<b>Reviewer's comment</b>\n",
    "\n",
    "To merge test and full data you can use only column 'date'.\n",
    "\n",
    "</div>"
   ]
  },
  {
   "cell_type": "code",
   "execution_count": 64,
   "metadata": {},
   "outputs": [
    {
     "name": "stdout",
     "output_type": "stream",
     "text": [
      "Average Rougher sMAPE: -0.01%\n",
      "Average Final sMAPE: -0.03%\n",
      "Best Rougher Model: {'max_depth': 10, 'min_samples_split': 10}\n",
      "Best Final Model: {'max_depth': 10, 'min_samples_split': 5}\n",
      "Average Best Rougher sMAPE: -0.02%\n",
      "Average Best Final sMAPE: -0.04%\n"
     ]
    }
   ],
   "source": [
    "# Initialize models\n",
    "regression_rough = DecisionTreeRegressor(random_state=54321)\n",
    "regression_final = DecisionTreeRegressor(random_state=54321)\n",
    "\n",
    "# Perform cross-validation and calculate mean sMAPE scores\n",
    "scores_rougher = cross_val_score(regression_rough, features_train, target_train['rougher.output.recovery'], cv=5, scoring=smape_scorer)\n",
    "scores_final = cross_val_score(regression_final, features_train, target_train['final.output.recovery'], cv=5, scoring=smape_scorer)\n",
    "\n",
    "print(f\"Average Rougher sMAPE: {np.mean(scores_rougher):.2f}%\")\n",
    "print(f\"Average Final sMAPE: {np.mean(scores_final):.2f}%\")\n",
    "\n",
    "# Hyperparameter tuning for DecisionTreeRegressor\n",
    "param_grid = {'max_depth': [3, 5, 7, 10], 'min_samples_split': [2, 5, 10]}\n",
    "grid_search_rough = GridSearchCV(regression_rough, param_grid, cv=5, scoring=smape_scorer)\n",
    "grid_search_final = GridSearchCV(regression_final, param_grid, cv=5, scoring=smape_scorer)\n",
    "\n",
    "grid_search_rough.fit(features_train, target_train['rougher.output.recovery'])\n",
    "grid_search_final.fit(features_train, target_train['final.output.recovery'])\n",
    "\n",
    "best_rough = grid_search_rough.best_estimator_\n",
    "best_final = grid_search_final.best_estimator_\n",
    "\n",
    "print(f\"Best Rougher Model: {grid_search_rough.best_params_}\")\n",
    "print(f\"Best Final Model: {grid_search_final.best_params_}\")\n",
    "\n",
    "# Fit the models\n",
    "best_rough.fit(features_train, target_train['rougher.output.recovery'])\n",
    "best_final.fit(features_train, target_train['final.output.recovery'])\n",
    "\n",
    "# Perform cross-validation and calculate mean sMAPE scores for the best models\n",
    "best_scores_rougher = cross_val_score(best_rough, features_train, target_train['rougher.output.recovery'], cv=5, scoring=smape_scorer)\n",
    "best_scores_final = cross_val_score(best_final, features_train, target_train['final.output.recovery'], cv=5, scoring=smape_scorer)\n",
    "\n",
    "print(f\"Average Best Rougher sMAPE: {np.mean(best_scores_rougher):.2f}%\")\n",
    "print(f\"Average Best Final sMAPE: {np.mean(best_scores_final):.2f}%\")"
   ]
  },
  {
   "cell_type": "markdown",
   "metadata": {},
   "source": [
    "<div class=\"alert alert-danger\">\n",
    "<b>Reviewer's comment</b>\n",
    "\n",
    "You can't use these features which are not represented in the initial test data in ML models because these features won't be available in production. In other words, in ML models you can use only the featureas which are represented in the initial test data. Other features should be removed from train data.\n",
    "\n",
    "</div>"
   ]
  },
  {
   "cell_type": "markdown",
   "metadata": {},
   "source": [
    "<div class=\"alert alert-danger\">\n",
    "<b>Reviewer's comment V2</b>\n",
    "\n",
    "Initial test data has only 53 columns. But you test data has 148 columns. So, you have a lot of columns which can not be used in ML models.\n",
    "    \n",
    "\"You can't use these features which are not represented in the initial test data in ML models because these features won't be available in production. In other words, in ML models you can use only the featureas which are represented in the initial test data. Other features should be removed from train data.\"\n",
    "    \n",
    "From the full data you can take only targets for test data and nothing else.\n",
    "\n",
    "\n",
    "</div>"
   ]
  },
  {
   "cell_type": "markdown",
   "metadata": {},
   "source": [
    "<div class=\"alert alert-danger\">\n",
    "<b>Reviewer's comment V2</b>\n",
    "\n",
    "You shouldn't have the part \"# Add missing columns to features_train with default value \" because if you have such columns in means you did something wrong. \n",
    "\n",
    "</div>"
   ]
  },
  {
   "cell_type": "code",
   "execution_count": 65,
   "metadata": {},
   "outputs": [
    {
     "name": "stdout",
     "output_type": "stream",
     "text": [
      "Average LR Rougher sMAPE: -0.08%\n",
      "Average LR Final sMAPE: -0.05%\n",
      "rougher.output.recovery    2.0\n",
      "final.output.recovery      2.0\n",
      "dtype: float64\n"
     ]
    }
   ],
   "source": [
    "\n",
    "# Convert datetime columns to numerical features\n",
    "def convert_datetime(df):\n",
    "    for col in df.columns:\n",
    "        if df[col].dtype == 'object':\n",
    "            try:\n",
    "                df[col] = pd.to_datetime(df[col])\n",
    "                df[col + '_year'] = df[col].dt.year\n",
    "                df[col + '_month'] = df[col].dt.month\n",
    "                df[col + '_day'] = df[col].dt.day\n",
    "                df[col + '_hour'] = df[col].dt.hour\n",
    "                df.drop(columns=[col], inplace=True)\n",
    "            except ValueError:\n",
    "                continue\n",
    "    return df\n",
    "\n",
    "# Apply the conversion to both training and test sets\n",
    "features_train = convert_datetime(features_train)\n",
    "features_test = convert_datetime(features_test)\n",
    "\n",
    "# Ensure both datasets have the same columns\n",
    "common_columns = features_train.columns.intersection(features_test.columns)\n",
    "features_train = features_train[common_columns]\n",
    "features_test = features_test[common_columns]\n",
    "\n",
    "# Scaling numerical features\n",
    "scaler = StandardScaler()\n",
    "features_train_scaled = scaler.fit_transform(features_train)\n",
    "features_test_scaled = scaler.transform(features_test)\n",
    "\n",
    "# Initialize linear regression models\n",
    "lr_regression_rougher = LinearRegression()\n",
    "lr_regression_final = LinearRegression()\n",
    "\n",
    "# Perform cross-validation and calculate mean sMAPE scores\n",
    "lr_scores_rougher = cross_val_score(lr_regression_rougher, features_train_scaled, target_train['rougher.output.recovery'], cv=5, scoring=smape_scorer)\n",
    "lr_scores_final = cross_val_score(lr_regression_final, features_train_scaled, target_train['final.output.recovery'], cv=5, scoring=smape_scorer)\n",
    "\n",
    "print(f\"Average LR Rougher sMAPE: {np.mean(lr_scores_rougher):.2f}%\")\n",
    "print(f\"Average LR Final sMAPE: {np.mean(lr_scores_final):.2f}%\")\n",
    "\n",
    "# Fit the linear regression models\n",
    "lr_regression_rougher.fit(features_train_scaled, target_train['rougher.output.recovery'])\n",
    "lr_regression_final.fit(features_train_scaled, target_train['final.output.recovery'])\n",
    "\n",
    "# Ensure there are no NaN or infinite values in the features_test and target_test\n",
    "features_test_scaled = pd.DataFrame(features_test_scaled).replace([np.inf, -np.inf], np.nan).dropna()\n",
    "target_test = target_test.replace([np.inf, -np.inf], np.nan).dropna()\n",
    "\n",
    "# Ensure features_test and target_test have the same number of rows\n",
    "min_length = min(features_test_scaled.shape[0], target_test.shape[0])\n",
    "features_test_scaled = features_test_scaled[:min_length]\n",
    "target_test = target_test[:min_length]\n",
    "\n",
    "# Predictions using the Linear Regression models\n",
    "pred_rougher_test_lr = lr_regression_rougher.predict(features_test_scaled)\n",
    "pred_final_test_lr = lr_regression_final.predict(features_test_scaled)\n",
    "\n",
    "# Calculate Final sMAPE\n",
    "final_smape_score_test_lr = smape(target_test, np.column_stack((pred_rougher_test_lr, pred_final_test_lr)))\n",
    "\n",
    "print(final_smape_score_test_lr)"
   ]
  },
  {
   "cell_type": "code",
   "execution_count": 66,
   "metadata": {},
   "outputs": [
    {
     "name": "stdout",
     "output_type": "stream",
     "text": [
      "0.11433616642422303\n"
     ]
    }
   ],
   "source": [
    "# Sanity check with constant model\n",
    "# Create a constant model that predicts the mean of the target variable from the training data\n",
    "mean_target_train = np.mean(target_train, axis=0)\n",
    "pred_constant = np.tile(mean_target_train, (min_length, 1))\n",
    "\n",
    "# Calculate Final sMAPE for Constant model\n",
    "final_smape_score_test_constant = fsmape(target_test, pred_constant)\n",
    "\n",
    "print(final_smape_score_test_constant)"
   ]
  },
  {
   "cell_type": "markdown",
   "metadata": {},
   "source": [
    "<div class=\"alert alert-danger\">\n",
    "<b>Reviewer's comment</b>\n",
    "\n",
    "1. For cross validataions, please, print average scores\n",
    "2. The metric of this project is smape. So, you should calculate smape and not mse. You can convert smape function to the scorer using make_scorer function from sklearn\n",
    "3. You need to tune hyperparameters at least for one model for each target. And you should tune them using smape metric.\n",
    "4. You need to do sanity check and compare your best model with the best constant model. Your model should be at least a bit better than the constant model\n",
    "5. If you're going to use any linear model, all the numerical features should be scaled\n",
    "\n",
    "   \n",
    "\n",
    "</div>"
   ]
  },
  {
   "cell_type": "markdown",
   "metadata": {},
   "source": [
    "<div class=\"alert alert-danger\">\n",
    "<b>Reviewer's comment V2</b>\n",
    "\n",
    "\n",
    "1. You need to tune hyperparameters at least for one model for each target. And you should tune them using smape metric.\n",
    "2. For sanity check you should calculate constants on train data. You can't calculate them on test data because it is a way to overfitting.\n",
    "3. Somthing is wrong the metrics calculations on test data. The results can't be so bad. If you have a code liks this `features_test[:min_length]` it means there is a mistake somewhere. Targets and features must always be the same length without cutting.\n",
    " \n",
    "   \n",
    "\n",
    "</div>"
   ]
  },
  {
   "cell_type": "markdown",
   "metadata": {},
   "source": [
    "<div class=\"alert alert-danger\">\n",
    "<b>Reviewer's comment V3</b>\n",
    "\n",
    "Everything is correct except the results on the test data. I was not able to find how the variable target_test was created but I belived the problem is with it. To calculate metrics on test you need to extract targets for test data from the full data. To do it you need to merge full data with test data using column date. But you need to take only targets and not other columns.\n",
    " \n",
    "   \n",
    "\n",
    "</div>"
   ]
  },
  {
   "cell_type": "markdown",
   "metadata": {},
   "source": [
    "<div class=\"alert alert-info\">\n",
    "  I THINK Ive got it after adding the language to merge\n",
    "</div>\n",
    "  "
   ]
  },
  {
   "cell_type": "markdown",
   "metadata": {},
   "source": [
    "<div class=\"alert alert-info\">\n",
    "  Working with the tutor, I got the following instruction and made changes accordingly; \n",
    "    \n",
    "\"You added 'rougher.output.concentrate_au', 'rougher.output.concentrate_ag', 'rougher.output.concentrate_pb' together to create the gold_test['total_concentration_rougher']\n",
    "\n",
    "As well as the 'total_concentration_final'\n",
    "During training a model session, you considered these two columns as the targets. \n",
    "\n",
    "The issue is the targets should be obtained from the full_df[['rougher.output.recovery', 'final.output.recovery']]  rather than these two column you've created.\n",
    "    \"\n",
    "    \n",
    "    \n",
    "  I still worry that something might be off, but you would know better. \n",
    "</div>\n",
    "  "
   ]
  },
  {
   "cell_type": "markdown",
   "metadata": {},
   "source": [
    "<div class=\"alert alert-danger\">\n",
    "<b>Reviewer's comment V4</b>\n",
    "\n",
    "The merge is correct. But now the problem is somewhere else because the metrics on test are still incorrect. Metrics on test should be similar to the metrics on validation.\n",
    "    \n",
    "P.S. If you can't find the problem by yourself, you can always ask your tutor to help you:)\n",
    "\n",
    "</div>"
   ]
  },
  {
   "cell_type": "markdown",
   "metadata": {},
   "source": [
    "<div class=\"alert alert-success\">\n",
    "<b>Reviewer's comment V5</b>\n",
    "\n",
    "Now everything looks correct. Well done!\n",
    "\n",
    "</div>"
   ]
  },
  {
   "cell_type": "code",
   "execution_count": null,
   "metadata": {},
   "outputs": [],
   "source": []
  }
 ],
 "metadata": {
  "ExecuteTimeLog": [
   {
    "duration": 1171,
    "start_time": "2024-08-19T15:27:07.551Z"
   },
   {
    "duration": 948,
    "start_time": "2024-08-19T15:32:36.876Z"
   },
   {
    "duration": 36,
    "start_time": "2024-08-19T15:32:44.783Z"
   },
   {
    "duration": 32,
    "start_time": "2024-08-19T15:32:52.926Z"
   },
   {
    "duration": 27,
    "start_time": "2024-08-19T15:33:02.523Z"
   },
   {
    "duration": 1193,
    "start_time": "2024-08-20T16:52:00.563Z"
   },
   {
    "duration": 956,
    "start_time": "2024-08-20T16:52:03.003Z"
   },
   {
    "duration": 35,
    "start_time": "2024-08-20T16:52:04.447Z"
   },
   {
    "duration": 22,
    "start_time": "2024-08-20T16:52:41.062Z"
   },
   {
    "duration": 28,
    "start_time": "2024-08-20T16:56:19.378Z"
   },
   {
    "duration": 38,
    "start_time": "2024-08-20T16:56:27.898Z"
   },
   {
    "duration": 29,
    "start_time": "2024-08-20T17:00:28.478Z"
   },
   {
    "duration": 27,
    "start_time": "2024-08-20T17:00:35.957Z"
   },
   {
    "duration": 1151,
    "start_time": "2024-08-21T13:31:05.441Z"
   },
   {
    "duration": 921,
    "start_time": "2024-08-21T13:31:06.596Z"
   },
   {
    "duration": 17,
    "start_time": "2024-08-21T13:32:32.327Z"
   },
   {
    "duration": 10,
    "start_time": "2024-08-21T13:33:00.143Z"
   },
   {
    "duration": 13,
    "start_time": "2024-08-21T13:34:01.806Z"
   },
   {
    "duration": 54,
    "start_time": "2024-08-21T16:11:11.423Z"
   },
   {
    "duration": 11,
    "start_time": "2024-08-21T16:11:17.274Z"
   },
   {
    "duration": 45,
    "start_time": "2024-08-21T16:11:31.828Z"
   },
   {
    "duration": 11,
    "start_time": "2024-08-21T16:11:37.444Z"
   },
   {
    "duration": 1235,
    "start_time": "2024-08-21T18:27:19.892Z"
   },
   {
    "duration": 909,
    "start_time": "2024-08-21T18:27:21.656Z"
   },
   {
    "duration": 35,
    "start_time": "2024-08-21T18:27:22.801Z"
   },
   {
    "duration": 12,
    "start_time": "2024-08-21T18:27:30.333Z"
   },
   {
    "duration": 29,
    "start_time": "2024-08-21T18:27:38.829Z"
   },
   {
    "duration": 51,
    "start_time": "2024-08-21T18:33:32.460Z"
   },
   {
    "duration": 12,
    "start_time": "2024-08-21T18:33:36.580Z"
   },
   {
    "duration": 18,
    "start_time": "2024-08-21T18:36:13.897Z"
   },
   {
    "duration": 5,
    "start_time": "2024-08-21T18:37:08.244Z"
   },
   {
    "duration": 764,
    "start_time": "2024-08-21T18:37:08.711Z"
   },
   {
    "duration": 29,
    "start_time": "2024-08-21T18:37:12.012Z"
   },
   {
    "duration": 12,
    "start_time": "2024-08-21T18:37:14.797Z"
   },
   {
    "duration": 42,
    "start_time": "2024-08-21T18:37:33.594Z"
   },
   {
    "duration": 12,
    "start_time": "2024-08-21T18:37:37.236Z"
   },
   {
    "duration": 8,
    "start_time": "2024-08-21T18:37:51.382Z"
   },
   {
    "duration": 11,
    "start_time": "2024-08-21T18:37:53.492Z"
   },
   {
    "duration": 5,
    "start_time": "2024-08-21T18:38:12.636Z"
   },
   {
    "duration": 11,
    "start_time": "2024-08-21T18:38:15.096Z"
   },
   {
    "duration": 9,
    "start_time": "2024-08-21T18:38:28.536Z"
   },
   {
    "duration": 13,
    "start_time": "2024-08-21T18:38:31.131Z"
   },
   {
    "duration": 1265,
    "start_time": "2024-08-21T19:32:45.651Z"
   },
   {
    "duration": 6,
    "start_time": "2024-08-21T19:33:26.806Z"
   },
   {
    "duration": 5,
    "start_time": "2024-08-21T19:34:07.131Z"
   },
   {
    "duration": 25,
    "start_time": "2024-08-21T19:35:34.337Z"
   },
   {
    "duration": 25,
    "start_time": "2024-08-21T19:35:50.756Z"
   },
   {
    "duration": 4,
    "start_time": "2024-08-21T19:36:00.017Z"
   },
   {
    "duration": 248,
    "start_time": "2024-08-21T19:36:05.491Z"
   },
   {
    "duration": 6,
    "start_time": "2024-08-21T19:38:06.513Z"
   },
   {
    "duration": 109,
    "start_time": "2024-08-21T19:38:10.042Z"
   },
   {
    "duration": 14,
    "start_time": "2024-08-21T19:41:25.132Z"
   },
   {
    "duration": 6,
    "start_time": "2024-08-21T19:41:30.457Z"
   },
   {
    "duration": 7,
    "start_time": "2024-08-21T19:41:55.679Z"
   },
   {
    "duration": 7,
    "start_time": "2024-08-21T19:48:56.735Z"
   },
   {
    "duration": 7,
    "start_time": "2024-08-21T19:48:58.236Z"
   },
   {
    "duration": 110,
    "start_time": "2024-08-21T19:49:02.032Z"
   },
   {
    "duration": 3,
    "start_time": "2024-08-21T19:49:13.473Z"
   },
   {
    "duration": 6,
    "start_time": "2024-08-21T19:49:14.371Z"
   },
   {
    "duration": 7,
    "start_time": "2024-08-21T19:49:15.251Z"
   },
   {
    "duration": 111,
    "start_time": "2024-08-21T19:49:19.436Z"
   },
   {
    "duration": 23,
    "start_time": "2024-08-21T19:51:16.031Z"
   },
   {
    "duration": 5,
    "start_time": "2024-08-21T19:51:21.376Z"
   },
   {
    "duration": 6,
    "start_time": "2024-08-21T19:52:07.571Z"
   },
   {
    "duration": 6,
    "start_time": "2024-08-21T19:52:08.159Z"
   },
   {
    "duration": 4,
    "start_time": "2024-08-21T19:52:11.151Z"
   },
   {
    "duration": 111,
    "start_time": "2024-08-21T19:52:21.536Z"
   },
   {
    "duration": 7,
    "start_time": "2024-08-21T19:53:54.340Z"
   },
   {
    "duration": 30,
    "start_time": "2024-08-21T19:54:05.971Z"
   },
   {
    "duration": 8,
    "start_time": "2024-08-21T19:54:10.076Z"
   },
   {
    "duration": 4,
    "start_time": "2024-08-21T19:54:32.571Z"
   },
   {
    "duration": 6,
    "start_time": "2024-08-21T19:54:33.211Z"
   },
   {
    "duration": 6,
    "start_time": "2024-08-21T19:54:34.091Z"
   },
   {
    "duration": 5,
    "start_time": "2024-08-21T19:54:36.121Z"
   },
   {
    "duration": 7,
    "start_time": "2024-08-21T19:54:39.078Z"
   },
   {
    "duration": 6,
    "start_time": "2024-08-21T19:54:43.792Z"
   },
   {
    "duration": 7,
    "start_time": "2024-08-21T19:55:13.471Z"
   },
   {
    "duration": 8,
    "start_time": "2024-08-21T19:55:16.704Z"
   },
   {
    "duration": 6,
    "start_time": "2024-08-21T19:55:22.218Z"
   },
   {
    "duration": 1184,
    "start_time": "2024-08-22T11:48:34.322Z"
   },
   {
    "duration": 924,
    "start_time": "2024-08-22T11:48:35.509Z"
   },
   {
    "duration": 33,
    "start_time": "2024-08-22T11:48:36.582Z"
   },
   {
    "duration": 27,
    "start_time": "2024-08-22T11:49:24.482Z"
   },
   {
    "duration": 5,
    "start_time": "2024-08-22T11:49:30.725Z"
   },
   {
    "duration": 10,
    "start_time": "2024-08-22T11:49:33.605Z"
   },
   {
    "duration": 9,
    "start_time": "2024-08-22T11:49:38.842Z"
   },
   {
    "duration": 14,
    "start_time": "2024-08-22T11:49:39.122Z"
   },
   {
    "duration": 5,
    "start_time": "2024-08-22T11:49:48.122Z"
   },
   {
    "duration": 8,
    "start_time": "2024-08-22T11:49:49.522Z"
   },
   {
    "duration": 7,
    "start_time": "2024-08-22T11:49:49.742Z"
   },
   {
    "duration": 6,
    "start_time": "2024-08-22T11:49:50.862Z"
   },
   {
    "duration": 21,
    "start_time": "2024-08-22T12:41:12.563Z"
   },
   {
    "duration": 6,
    "start_time": "2024-08-22T14:10:10.302Z"
   },
   {
    "duration": 432,
    "start_time": "2024-08-22T14:14:29.723Z"
   },
   {
    "duration": 5,
    "start_time": "2024-08-22T14:14:39.362Z"
   },
   {
    "duration": 4,
    "start_time": "2024-08-22T14:16:48.023Z"
   },
   {
    "duration": 4,
    "start_time": "2024-08-22T14:18:11.807Z"
   },
   {
    "duration": 7,
    "start_time": "2024-08-22T14:18:17.143Z"
   },
   {
    "duration": 3870,
    "start_time": "2024-08-22T14:19:38.343Z"
   },
   {
    "duration": 1205,
    "start_time": "2024-08-22T14:22:03.523Z"
   },
   {
    "duration": 199,
    "start_time": "2024-08-22T14:26:11.367Z"
   },
   {
    "duration": 190,
    "start_time": "2024-08-22T14:26:23.467Z"
   },
   {
    "duration": 4,
    "start_time": "2024-08-22T14:34:58.967Z"
   },
   {
    "duration": 4,
    "start_time": "2024-08-22T15:06:50.302Z"
   },
   {
    "duration": 27,
    "start_time": "2024-08-22T15:08:56.151Z"
   },
   {
    "duration": 8,
    "start_time": "2024-08-22T15:09:12.602Z"
   },
   {
    "duration": 5,
    "start_time": "2024-08-22T15:09:14.842Z"
   },
   {
    "duration": 413,
    "start_time": "2024-08-22T15:17:28.502Z"
   },
   {
    "duration": 520,
    "start_time": "2024-08-22T15:18:02.702Z"
   },
   {
    "duration": 344,
    "start_time": "2024-08-22T15:18:15.863Z"
   },
   {
    "duration": 7,
    "start_time": "2024-08-22T15:24:53.763Z"
   },
   {
    "duration": 351,
    "start_time": "2024-08-22T15:25:36.801Z"
   },
   {
    "duration": 4,
    "start_time": "2024-08-22T15:34:08.207Z"
   },
   {
    "duration": 7,
    "start_time": "2024-08-22T15:48:47.785Z"
   },
   {
    "duration": 22,
    "start_time": "2024-08-22T15:48:58.609Z"
   },
   {
    "duration": 4,
    "start_time": "2024-08-22T15:49:11.303Z"
   },
   {
    "duration": 5,
    "start_time": "2024-08-22T16:04:55.741Z"
   },
   {
    "duration": 14,
    "start_time": "2024-08-22T16:12:50.514Z"
   },
   {
    "duration": 14,
    "start_time": "2024-08-22T16:13:03.483Z"
   },
   {
    "duration": 8,
    "start_time": "2024-08-22T16:22:07.244Z"
   },
   {
    "duration": 120,
    "start_time": "2024-08-22T16:24:10.138Z"
   },
   {
    "duration": 592,
    "start_time": "2024-08-22T16:24:30.547Z"
   },
   {
    "duration": 9,
    "start_time": "2024-08-22T16:37:12.933Z"
   },
   {
    "duration": 9,
    "start_time": "2024-08-22T17:06:35.883Z"
   },
   {
    "duration": 28,
    "start_time": "2024-08-22T17:30:23.762Z"
   },
   {
    "duration": 142,
    "start_time": "2024-08-22T18:01:44.463Z"
   },
   {
    "duration": 25,
    "start_time": "2024-08-22T18:02:03.802Z"
   },
   {
    "duration": 34,
    "start_time": "2024-08-22T18:02:14.442Z"
   },
   {
    "duration": 797,
    "start_time": "2024-08-22T18:04:30.402Z"
   },
   {
    "duration": 826,
    "start_time": "2024-08-22T18:05:33.002Z"
   },
   {
    "duration": 275,
    "start_time": "2024-08-22T18:06:26.884Z"
   },
   {
    "duration": 10,
    "start_time": "2024-08-22T18:10:32.044Z"
   },
   {
    "duration": 10,
    "start_time": "2024-08-22T18:25:05.824Z"
   },
   {
    "duration": 10,
    "start_time": "2024-08-22T18:25:38.864Z"
   },
   {
    "duration": 10,
    "start_time": "2024-08-22T18:25:47.303Z"
   },
   {
    "duration": 10,
    "start_time": "2024-08-22T18:25:58.582Z"
   },
   {
    "duration": 19,
    "start_time": "2024-08-22T18:26:46.563Z"
   },
   {
    "duration": 4,
    "start_time": "2024-08-22T18:40:08.662Z"
   },
   {
    "duration": 8,
    "start_time": "2024-08-22T19:03:36.528Z"
   },
   {
    "duration": 9,
    "start_time": "2024-08-22T19:03:59.308Z"
   },
   {
    "duration": 8,
    "start_time": "2024-08-22T19:04:57.388Z"
   },
   {
    "duration": 7,
    "start_time": "2024-08-22T19:05:11.827Z"
   },
   {
    "duration": 7,
    "start_time": "2024-08-22T19:05:50.862Z"
   },
   {
    "duration": 17,
    "start_time": "2024-08-22T19:15:56.188Z"
   },
   {
    "duration": 1192,
    "start_time": "2024-08-22T19:20:43.542Z"
   },
   {
    "duration": 16,
    "start_time": "2024-08-22T19:20:59.762Z"
   },
   {
    "duration": 16,
    "start_time": "2024-08-22T19:26:27.827Z"
   },
   {
    "duration": 15,
    "start_time": "2024-08-22T19:26:40.102Z"
   },
   {
    "duration": 16,
    "start_time": "2024-08-22T19:27:00.543Z"
   },
   {
    "duration": 7,
    "start_time": "2024-08-22T19:28:30.642Z"
   },
   {
    "duration": 6,
    "start_time": "2024-08-22T19:29:04.293Z"
   },
   {
    "duration": 5,
    "start_time": "2024-08-22T19:29:44.709Z"
   },
   {
    "duration": 11,
    "start_time": "2024-08-22T19:33:48.552Z"
   },
   {
    "duration": 5439,
    "start_time": "2024-08-23T01:07:45.247Z"
   },
   {
    "duration": 1101,
    "start_time": "2024-08-23T01:07:53.789Z"
   },
   {
    "duration": 333,
    "start_time": "2024-08-23T01:07:55.927Z"
   },
   {
    "duration": 30,
    "start_time": "2024-08-23T01:08:00.012Z"
   },
   {
    "duration": 10,
    "start_time": "2024-08-23T01:08:14.572Z"
   },
   {
    "duration": 25,
    "start_time": "2024-08-23T01:08:19.991Z"
   },
   {
    "duration": 7,
    "start_time": "2024-08-23T01:08:27.327Z"
   },
   {
    "duration": 10,
    "start_time": "2024-08-23T01:08:28.299Z"
   },
   {
    "duration": 512,
    "start_time": "2024-08-23T01:15:35.766Z"
   },
   {
    "duration": 40,
    "start_time": "2024-08-23T01:15:50.348Z"
   },
   {
    "duration": 21,
    "start_time": "2024-08-23T01:16:53.391Z"
   },
   {
    "duration": 480,
    "start_time": "2024-08-23T01:22:43.367Z"
   },
   {
    "duration": 215,
    "start_time": "2024-08-23T01:24:56.059Z"
   },
   {
    "duration": 1892,
    "start_time": "2024-08-23T01:25:08.747Z"
   },
   {
    "duration": 2078,
    "start_time": "2024-08-23T01:33:15.010Z"
   },
   {
    "duration": 715,
    "start_time": "2024-08-23T01:44:33.621Z"
   },
   {
    "duration": 665,
    "start_time": "2024-08-23T01:44:52.404Z"
   },
   {
    "duration": 1125,
    "start_time": "2024-08-23T01:51:46.414Z"
   },
   {
    "duration": 1236,
    "start_time": "2024-08-23T01:52:23.393Z"
   },
   {
    "duration": 1085,
    "start_time": "2024-08-23T01:53:52.450Z"
   },
   {
    "duration": 1095,
    "start_time": "2024-08-23T02:02:20.713Z"
   },
   {
    "duration": 2812,
    "start_time": "2024-08-23T02:08:30.773Z"
   },
   {
    "duration": 1448,
    "start_time": "2024-08-23T02:09:37.214Z"
   },
   {
    "duration": 1304,
    "start_time": "2024-08-23T02:11:28.852Z"
   },
   {
    "duration": 166,
    "start_time": "2024-08-23T02:16:25.150Z"
   },
   {
    "duration": 1767,
    "start_time": "2024-08-23T02:17:52.250Z"
   },
   {
    "duration": 35,
    "start_time": "2024-08-23T02:19:04.870Z"
   },
   {
    "duration": 138,
    "start_time": "2024-08-23T02:19:13.050Z"
   },
   {
    "duration": 132,
    "start_time": "2024-08-23T02:20:50.307Z"
   },
   {
    "duration": 15,
    "start_time": "2024-08-23T11:55:59.757Z"
   },
   {
    "duration": 8,
    "start_time": "2024-08-23T11:56:19.772Z"
   },
   {
    "duration": 311,
    "start_time": "2024-08-23T12:14:19.623Z"
   },
   {
    "duration": 5024,
    "start_time": "2024-08-23T12:14:30.437Z"
   },
   {
    "duration": 973,
    "start_time": "2024-08-23T12:14:35.465Z"
   },
   {
    "duration": 293,
    "start_time": "2024-08-23T12:14:36.440Z"
   },
   {
    "duration": 21,
    "start_time": "2024-08-23T12:14:36.737Z"
   },
   {
    "duration": 7,
    "start_time": "2024-08-23T12:14:36.761Z"
   },
   {
    "duration": 51,
    "start_time": "2024-08-23T12:14:36.771Z"
   },
   {
    "duration": 6,
    "start_time": "2024-08-23T12:14:36.826Z"
   },
   {
    "duration": 9,
    "start_time": "2024-08-23T12:14:36.835Z"
   },
   {
    "duration": 79,
    "start_time": "2024-08-23T12:14:36.846Z"
   },
   {
    "duration": 19,
    "start_time": "2024-08-23T12:14:36.932Z"
   },
   {
    "duration": 435,
    "start_time": "2024-08-23T12:14:36.954Z"
   },
   {
    "duration": 2030,
    "start_time": "2024-08-23T12:14:37.392Z"
   },
   {
    "duration": 644,
    "start_time": "2024-08-23T12:14:39.426Z"
   },
   {
    "duration": 1159,
    "start_time": "2024-08-23T12:14:40.073Z"
   },
   {
    "duration": 1201,
    "start_time": "2024-08-23T12:14:41.235Z"
   },
   {
    "duration": 2836,
    "start_time": "2024-08-23T12:14:42.440Z"
   },
   {
    "duration": 1286,
    "start_time": "2024-08-23T12:14:45.279Z"
   },
   {
    "duration": 1286,
    "start_time": "2024-08-23T12:14:46.567Z"
   },
   {
    "duration": 168,
    "start_time": "2024-08-23T12:14:47.856Z"
   },
   {
    "duration": 144,
    "start_time": "2024-08-23T12:14:48.026Z"
   },
   {
    "duration": 152,
    "start_time": "2024-08-23T12:14:48.173Z"
   },
   {
    "duration": 8,
    "start_time": "2024-08-23T12:14:48.328Z"
   },
   {
    "duration": 4,
    "start_time": "2024-08-23T12:14:48.339Z"
   },
   {
    "duration": 135,
    "start_time": "2024-08-23T12:16:09.578Z"
   },
   {
    "duration": 827,
    "start_time": "2024-08-23T12:16:26.946Z"
   },
   {
    "duration": 838,
    "start_time": "2024-08-23T12:16:54.097Z"
   },
   {
    "duration": 840,
    "start_time": "2024-08-23T12:17:23.001Z"
   },
   {
    "duration": 37754,
    "start_time": "2024-08-23T12:20:33.506Z"
   },
   {
    "duration": 2603,
    "start_time": "2024-08-23T13:01:31.419Z"
   },
   {
    "duration": 120,
    "start_time": "2024-08-23T13:02:37.760Z"
   },
   {
    "duration": 145,
    "start_time": "2024-08-23T13:03:18.019Z"
   },
   {
    "duration": 122,
    "start_time": "2024-08-23T13:03:30.177Z"
   },
   {
    "duration": 14,
    "start_time": "2024-08-23T14:00:18.007Z"
   },
   {
    "duration": 6,
    "start_time": "2024-08-23T14:17:24.579Z"
   },
   {
    "duration": 4451,
    "start_time": "2024-08-23T16:12:39.457Z"
   },
   {
    "duration": 984,
    "start_time": "2024-08-23T16:12:49.409Z"
   },
   {
    "duration": 989,
    "start_time": "2024-08-23T16:12:51.417Z"
   },
   {
    "duration": 358,
    "start_time": "2024-08-23T16:12:52.409Z"
   },
   {
    "duration": 21,
    "start_time": "2024-08-23T16:12:54.642Z"
   },
   {
    "duration": 6,
    "start_time": "2024-08-23T16:12:57.369Z"
   },
   {
    "duration": 24,
    "start_time": "2024-08-23T16:13:00.398Z"
   },
   {
    "duration": 6,
    "start_time": "2024-08-23T16:13:02.742Z"
   },
   {
    "duration": 7,
    "start_time": "2024-08-23T16:13:04.397Z"
   },
   {
    "duration": 32,
    "start_time": "2024-08-23T16:13:06.560Z"
   },
   {
    "duration": 439,
    "start_time": "2024-08-23T16:13:10.397Z"
   },
   {
    "duration": 1890,
    "start_time": "2024-08-23T16:13:15.037Z"
   },
   {
    "duration": 702,
    "start_time": "2024-08-23T16:13:24.063Z"
   },
   {
    "duration": 689,
    "start_time": "2024-08-23T16:13:40.719Z"
   },
   {
    "duration": 788,
    "start_time": "2024-08-23T16:13:57.503Z"
   },
   {
    "duration": 668,
    "start_time": "2024-08-23T16:14:14.967Z"
   },
   {
    "duration": 697,
    "start_time": "2024-08-23T16:14:26.337Z"
   },
   {
    "duration": 5301,
    "start_time": "2024-08-23T19:18:34.077Z"
   },
   {
    "duration": 1031,
    "start_time": "2024-08-23T19:18:40.540Z"
   },
   {
    "duration": 325,
    "start_time": "2024-08-23T19:18:42.102Z"
   },
   {
    "duration": 20,
    "start_time": "2024-08-23T19:18:43.938Z"
   },
   {
    "duration": 7,
    "start_time": "2024-08-23T19:18:47.812Z"
   },
   {
    "duration": 26,
    "start_time": "2024-08-23T19:18:50.640Z"
   },
   {
    "duration": 6,
    "start_time": "2024-08-23T19:18:53.518Z"
   },
   {
    "duration": 8,
    "start_time": "2024-08-23T19:18:54.078Z"
   },
   {
    "duration": 34,
    "start_time": "2024-08-23T19:18:57.439Z"
   },
   {
    "duration": 23,
    "start_time": "2024-08-23T19:18:59.578Z"
   },
   {
    "duration": 494,
    "start_time": "2024-08-23T19:19:03.279Z"
   },
   {
    "duration": 2089,
    "start_time": "2024-08-23T19:19:08.378Z"
   },
   {
    "duration": 743,
    "start_time": "2024-08-23T19:19:27.921Z"
   },
   {
    "duration": 1223,
    "start_time": "2024-08-23T19:20:15.823Z"
   },
   {
    "duration": 1171,
    "start_time": "2024-08-23T19:20:41.448Z"
   },
   {
    "duration": 2939,
    "start_time": "2024-08-23T19:20:46.698Z"
   },
   {
    "duration": 1468,
    "start_time": "2024-08-23T19:20:52.138Z"
   },
   {
    "duration": 1425,
    "start_time": "2024-08-23T19:21:28.167Z"
   },
   {
    "duration": 76,
    "start_time": "2024-08-23T19:21:30.818Z"
   },
   {
    "duration": 40,
    "start_time": "2024-08-23T19:22:02.224Z"
   },
   {
    "duration": 160,
    "start_time": "2024-08-23T19:22:12.911Z"
   },
   {
    "duration": 5,
    "start_time": "2024-08-23T19:33:25.957Z"
   },
   {
    "duration": 776,
    "start_time": "2024-08-23T19:33:29.017Z"
   },
   {
    "duration": 276,
    "start_time": "2024-08-23T19:33:29.796Z"
   },
   {
    "duration": 20,
    "start_time": "2024-08-23T19:33:34.667Z"
   },
   {
    "duration": 7,
    "start_time": "2024-08-23T19:33:34.881Z"
   },
   {
    "duration": 17,
    "start_time": "2024-08-23T19:33:37.378Z"
   },
   {
    "duration": 6,
    "start_time": "2024-08-23T19:33:39.785Z"
   },
   {
    "duration": 8,
    "start_time": "2024-08-23T19:33:40.144Z"
   },
   {
    "duration": 30,
    "start_time": "2024-08-23T19:33:43.492Z"
   },
   {
    "duration": 19,
    "start_time": "2024-08-23T19:33:45.097Z"
   },
   {
    "duration": 440,
    "start_time": "2024-08-23T19:33:48.002Z"
   },
   {
    "duration": 1861,
    "start_time": "2024-08-23T19:33:51.737Z"
   },
   {
    "duration": 818,
    "start_time": "2024-08-23T19:33:54.894Z"
   },
   {
    "duration": 1107,
    "start_time": "2024-08-23T19:34:03.848Z"
   },
   {
    "duration": 1093,
    "start_time": "2024-08-23T19:34:06.142Z"
   },
   {
    "duration": 2858,
    "start_time": "2024-08-23T19:34:07.451Z"
   },
   {
    "duration": 1260,
    "start_time": "2024-08-23T19:34:10.313Z"
   },
   {
    "duration": 1376,
    "start_time": "2024-08-23T19:34:19.277Z"
   },
   {
    "duration": 74,
    "start_time": "2024-08-23T19:34:26.944Z"
   },
   {
    "duration": 36,
    "start_time": "2024-08-23T19:34:30.158Z"
   },
   {
    "duration": 8,
    "start_time": "2024-08-23T19:34:36.187Z"
   },
   {
    "duration": 15123,
    "start_time": "2024-08-23T19:34:38.657Z"
   },
   {
    "duration": 8,
    "start_time": "2024-08-23T19:48:03.932Z"
   },
   {
    "duration": 887,
    "start_time": "2024-08-23T19:48:25.779Z"
   },
   {
    "duration": 281,
    "start_time": "2024-08-23T19:48:27.459Z"
   },
   {
    "duration": 23,
    "start_time": "2024-08-23T19:48:29.018Z"
   },
   {
    "duration": 6,
    "start_time": "2024-08-23T19:48:34.260Z"
   },
   {
    "duration": 24,
    "start_time": "2024-08-23T19:48:39.267Z"
   },
   {
    "duration": 6,
    "start_time": "2024-08-23T19:48:42.477Z"
   },
   {
    "duration": 9,
    "start_time": "2024-08-23T19:48:43.124Z"
   },
   {
    "duration": 36,
    "start_time": "2024-08-23T19:48:45.649Z"
   },
   {
    "duration": 20,
    "start_time": "2024-08-23T19:48:47.398Z"
   },
   {
    "duration": 417,
    "start_time": "2024-08-23T19:48:56.857Z"
   },
   {
    "duration": 1896,
    "start_time": "2024-08-23T19:49:02.301Z"
   },
   {
    "duration": 821,
    "start_time": "2024-08-23T19:49:08.869Z"
   },
   {
    "duration": 3057,
    "start_time": "2024-08-23T19:50:35.378Z"
   },
   {
    "duration": 1304,
    "start_time": "2024-08-23T19:50:38.440Z"
   },
   {
    "duration": 1284,
    "start_time": "2024-08-23T19:50:42.570Z"
   },
   {
    "duration": 72,
    "start_time": "2024-08-23T19:50:52.918Z"
   },
   {
    "duration": 156,
    "start_time": "2024-08-23T19:52:31.903Z"
   },
   {
    "duration": 5,
    "start_time": "2024-08-23T20:21:20.193Z"
   },
   {
    "duration": 0,
    "start_time": "2024-08-23T20:32:54.284Z"
   },
   {
    "duration": 0,
    "start_time": "2024-08-23T20:32:54.290Z"
   },
   {
    "duration": 0,
    "start_time": "2024-08-23T20:32:54.307Z"
   },
   {
    "duration": 107952,
    "start_time": "2024-08-23T20:43:54.389Z"
   },
   {
    "duration": 4,
    "start_time": "2024-08-23T20:46:00.229Z"
   },
   {
    "duration": 5,
    "start_time": "2024-08-23T20:46:11.924Z"
   },
   {
    "duration": 743,
    "start_time": "2024-08-23T20:46:33.965Z"
   },
   {
    "duration": 270783,
    "start_time": "2024-08-23T20:47:16.036Z"
   },
   {
    "duration": 6,
    "start_time": "2024-08-23T21:06:14.408Z"
   },
   {
    "duration": 757,
    "start_time": "2024-08-23T21:06:15.458Z"
   },
   {
    "duration": 163369,
    "start_time": "2024-08-23T21:06:20.899Z"
   },
   {
    "duration": 48,
    "start_time": "2024-08-23T21:09:18.958Z"
   },
   {
    "duration": 2248,
    "start_time": "2024-08-23T21:09:33.658Z"
   },
   {
    "duration": 2012,
    "start_time": "2024-08-23T21:14:59.308Z"
   },
   {
    "duration": 140,
    "start_time": "2024-08-23T21:15:16.182Z"
   },
   {
    "duration": 16,
    "start_time": "2024-08-23T21:17:26.304Z"
   },
   {
    "duration": 1264,
    "start_time": "2024-08-23T21:17:30.368Z"
   },
   {
    "duration": 257,
    "start_time": "2024-08-23T21:23:41.232Z"
   },
   {
    "duration": 29,
    "start_time": "2024-08-23T21:24:27.938Z"
   },
   {
    "duration": 50,
    "start_time": "2024-08-23T21:26:23.578Z"
   },
   {
    "duration": 23,
    "start_time": "2024-08-23T21:26:49.818Z"
   },
   {
    "duration": 31,
    "start_time": "2024-08-23T21:27:03.402Z"
   },
   {
    "duration": 9,
    "start_time": "2024-08-23T21:28:34.427Z"
   },
   {
    "duration": 11,
    "start_time": "2024-08-23T21:28:52.380Z"
   },
   {
    "duration": 7,
    "start_time": "2024-08-23T21:29:03.392Z"
   },
   {
    "duration": 6,
    "start_time": "2024-08-23T21:29:10.618Z"
   },
   {
    "duration": 9,
    "start_time": "2024-08-23T21:29:13.988Z"
   },
   {
    "duration": 12,
    "start_time": "2024-08-23T21:29:23.746Z"
   },
   {
    "duration": 14,
    "start_time": "2024-08-24T09:23:14.512Z"
   },
   {
    "duration": 5012,
    "start_time": "2024-08-24T09:25:20.241Z"
   },
   {
    "duration": 961,
    "start_time": "2024-08-24T09:25:25.257Z"
   },
   {
    "duration": 7,
    "start_time": "2024-08-24T09:25:30.670Z"
   },
   {
    "duration": 277,
    "start_time": "2024-08-24T09:25:36.340Z"
   },
   {
    "duration": 20,
    "start_time": "2024-08-24T09:25:36.847Z"
   },
   {
    "duration": 7,
    "start_time": "2024-08-24T09:25:36.925Z"
   },
   {
    "duration": 23,
    "start_time": "2024-08-24T09:25:37.017Z"
   },
   {
    "duration": 6,
    "start_time": "2024-08-24T09:25:37.092Z"
   },
   {
    "duration": 8,
    "start_time": "2024-08-24T09:25:37.179Z"
   },
   {
    "duration": 38,
    "start_time": "2024-08-24T09:25:37.346Z"
   },
   {
    "duration": 19,
    "start_time": "2024-08-24T09:25:37.428Z"
   },
   {
    "duration": 438,
    "start_time": "2024-08-24T09:25:38.037Z"
   },
   {
    "duration": 1920,
    "start_time": "2024-08-24T09:25:38.779Z"
   },
   {
    "duration": 777,
    "start_time": "2024-08-24T09:25:40.703Z"
   },
   {
    "duration": 1147,
    "start_time": "2024-08-24T09:25:41.483Z"
   },
   {
    "duration": 1116,
    "start_time": "2024-08-24T09:25:42.634Z"
   },
   {
    "duration": 2927,
    "start_time": "2024-08-24T09:25:43.753Z"
   },
   {
    "duration": 1249,
    "start_time": "2024-08-24T09:25:46.683Z"
   },
   {
    "duration": 1398,
    "start_time": "2024-08-24T09:25:47.935Z"
   },
   {
    "duration": 86,
    "start_time": "2024-08-24T09:25:49.336Z"
   },
   {
    "duration": 37,
    "start_time": "2024-08-24T09:25:49.425Z"
   },
   {
    "duration": 38,
    "start_time": "2024-08-24T09:25:53.737Z"
   },
   {
    "duration": 412,
    "start_time": "2024-08-24T09:25:59.840Z"
   },
   {
    "duration": 5,
    "start_time": "2024-08-24T09:26:03.088Z"
   },
   {
    "duration": 316,
    "start_time": "2024-08-24T12:14:48.238Z"
   },
   {
    "duration": 4977,
    "start_time": "2024-08-24T12:14:56.478Z"
   },
   {
    "duration": 995,
    "start_time": "2024-08-24T12:15:02.220Z"
   },
   {
    "duration": 292,
    "start_time": "2024-08-24T12:15:03.218Z"
   },
   {
    "duration": 20,
    "start_time": "2024-08-24T12:15:04.128Z"
   },
   {
    "duration": 7,
    "start_time": "2024-08-24T12:37:14.838Z"
   },
   {
    "duration": 27,
    "start_time": "2024-08-24T12:37:16.009Z"
   },
   {
    "duration": 6,
    "start_time": "2024-08-24T12:37:19.978Z"
   },
   {
    "duration": 7,
    "start_time": "2024-08-24T12:37:20.498Z"
   },
   {
    "duration": 38,
    "start_time": "2024-08-24T12:37:23.930Z"
   },
   {
    "duration": 19,
    "start_time": "2024-08-24T12:37:27.879Z"
   },
   {
    "duration": 420,
    "start_time": "2024-08-24T12:37:35.719Z"
   },
   {
    "duration": 1912,
    "start_time": "2024-08-24T12:37:51.719Z"
   },
   {
    "duration": 673,
    "start_time": "2024-08-24T12:37:54.558Z"
   },
   {
    "duration": 1183,
    "start_time": "2024-08-24T12:38:09.543Z"
   },
   {
    "duration": 1131,
    "start_time": "2024-08-24T12:38:12.283Z"
   },
   {
    "duration": 2870,
    "start_time": "2024-08-24T12:38:13.418Z"
   },
   {
    "duration": 1254,
    "start_time": "2024-08-24T12:38:16.291Z"
   },
   {
    "duration": 1389,
    "start_time": "2024-08-24T12:38:17.548Z"
   },
   {
    "duration": 22,
    "start_time": "2024-08-24T12:40:36.218Z"
   },
   {
    "duration": 1469,
    "start_time": "2024-08-24T12:43:12.123Z"
   },
   {
    "duration": 25,
    "start_time": "2024-08-24T12:43:25.298Z"
   },
   {
    "duration": 9,
    "start_time": "2024-08-24T12:43:49.398Z"
   },
   {
    "duration": 851,
    "start_time": "2024-08-24T12:44:18.043Z"
   },
   {
    "duration": 54,
    "start_time": "2024-08-24T12:44:31.688Z"
   },
   {
    "duration": 10,
    "start_time": "2024-08-24T12:44:40.725Z"
   },
   {
    "duration": 41,
    "start_time": "2024-08-24T12:46:15.983Z"
   },
   {
    "duration": 58,
    "start_time": "2024-08-24T12:46:30.207Z"
   },
   {
    "duration": 96,
    "start_time": "2024-08-24T12:47:01.944Z"
   },
   {
    "duration": 92,
    "start_time": "2024-08-24T12:47:23.723Z"
   },
   {
    "duration": 6,
    "start_time": "2024-08-24T12:49:45.297Z"
   },
   {
    "duration": 759,
    "start_time": "2024-08-24T12:49:46.017Z"
   },
   {
    "duration": 4,
    "start_time": "2024-08-24T12:50:00.176Z"
   },
   {
    "duration": 4,
    "start_time": "2024-08-24T12:50:09.392Z"
   },
   {
    "duration": 5,
    "start_time": "2024-08-24T12:50:17.811Z"
   },
   {
    "duration": 261,
    "start_time": "2024-08-24T12:50:25.217Z"
   },
   {
    "duration": 22,
    "start_time": "2024-08-24T12:50:26.837Z"
   },
   {
    "duration": 6,
    "start_time": "2024-08-24T12:50:34.017Z"
   },
   {
    "duration": 18,
    "start_time": "2024-08-24T12:50:37.137Z"
   },
   {
    "duration": 5,
    "start_time": "2024-08-24T12:50:41.167Z"
   },
   {
    "duration": 8,
    "start_time": "2024-08-24T12:50:43.217Z"
   },
   {
    "duration": 35,
    "start_time": "2024-08-24T12:50:44.736Z"
   },
   {
    "duration": 19,
    "start_time": "2024-08-24T12:50:48.259Z"
   },
   {
    "duration": 15,
    "start_time": "2024-08-24T12:51:39.379Z"
   },
   {
    "duration": 1923,
    "start_time": "2024-08-24T12:51:49.332Z"
   },
   {
    "duration": 688,
    "start_time": "2024-08-24T12:52:02.537Z"
   },
   {
    "duration": 1161,
    "start_time": "2024-08-24T12:52:12.462Z"
   },
   {
    "duration": 33,
    "start_time": "2024-08-24T12:53:24.972Z"
   },
   {
    "duration": 4,
    "start_time": "2024-08-24T12:53:44.367Z"
   },
   {
    "duration": 4,
    "start_time": "2024-08-24T12:53:57.579Z"
   },
   {
    "duration": 1206,
    "start_time": "2024-08-24T12:54:09.048Z"
   },
   {
    "duration": 41,
    "start_time": "2024-08-24T12:55:09.463Z"
   },
   {
    "duration": 40,
    "start_time": "2024-08-24T12:55:39.114Z"
   },
   {
    "duration": 62,
    "start_time": "2024-08-24T12:55:51.608Z"
   },
   {
    "duration": 31,
    "start_time": "2024-08-24T12:56:05.017Z"
   },
   {
    "duration": 3,
    "start_time": "2024-08-24T12:56:44.757Z"
   },
   {
    "duration": 20,
    "start_time": "2024-08-24T12:57:01.492Z"
   },
   {
    "duration": 4,
    "start_time": "2024-08-24T12:57:17.803Z"
   },
   {
    "duration": 5,
    "start_time": "2024-08-24T12:57:32.901Z"
   },
   {
    "duration": 13,
    "start_time": "2024-08-24T12:58:10.206Z"
   },
   {
    "duration": 5,
    "start_time": "2024-08-24T12:58:32.762Z"
   },
   {
    "duration": 5,
    "start_time": "2024-08-24T12:58:41.383Z"
   },
   {
    "duration": 1366,
    "start_time": "2024-08-24T13:02:30.924Z"
   },
   {
    "duration": 796,
    "start_time": "2024-08-24T13:02:34.298Z"
   },
   {
    "duration": 5,
    "start_time": "2024-08-24T13:02:35.517Z"
   },
   {
    "duration": 351,
    "start_time": "2024-08-24T13:03:35.902Z"
   },
   {
    "duration": 20,
    "start_time": "2024-08-24T13:03:37.837Z"
   },
   {
    "duration": 7,
    "start_time": "2024-08-24T13:04:38.267Z"
   },
   {
    "duration": 26,
    "start_time": "2024-08-24T13:04:50.957Z"
   },
   {
    "duration": 6,
    "start_time": "2024-08-24T13:04:54.382Z"
   },
   {
    "duration": 7,
    "start_time": "2024-08-24T13:04:59.857Z"
   },
   {
    "duration": 7,
    "start_time": "2024-08-24T13:05:48.417Z"
   },
   {
    "duration": 32,
    "start_time": "2024-08-24T13:05:50.557Z"
   },
   {
    "duration": 19,
    "start_time": "2024-08-24T13:05:51.718Z"
   },
   {
    "duration": 16,
    "start_time": "2024-08-24T13:06:25.272Z"
   },
   {
    "duration": 1922,
    "start_time": "2024-08-24T13:06:35.617Z"
   },
   {
    "duration": 660,
    "start_time": "2024-08-24T13:06:37.702Z"
   },
   {
    "duration": 1188,
    "start_time": "2024-08-24T13:06:49.265Z"
   },
   {
    "duration": 1106,
    "start_time": "2024-08-24T13:06:51.178Z"
   },
   {
    "duration": 26,
    "start_time": "2024-08-24T13:06:55.783Z"
   },
   {
    "duration": 4,
    "start_time": "2024-08-24T13:07:00.877Z"
   },
   {
    "duration": 1233,
    "start_time": "2024-08-24T13:07:10.957Z"
   },
   {
    "duration": 422,
    "start_time": "2024-08-24T13:12:00.238Z"
   },
   {
    "duration": 526,
    "start_time": "2024-08-24T13:12:44.119Z"
   },
   {
    "duration": 4,
    "start_time": "2024-08-24T13:12:48.537Z"
   },
   {
    "duration": 607,
    "start_time": "2024-08-24T13:21:45.102Z"
   },
   {
    "duration": 66,
    "start_time": "2024-08-24T13:22:24.153Z"
   },
   {
    "duration": 6,
    "start_time": "2024-08-24T13:27:51.603Z"
   },
   {
    "duration": 37,
    "start_time": "2024-08-24T14:18:56.648Z"
   },
   {
    "duration": 95,
    "start_time": "2024-08-24T14:23:24.219Z"
   },
   {
    "duration": 29,
    "start_time": "2024-08-24T14:23:58.637Z"
   },
   {
    "duration": 5,
    "start_time": "2024-08-24T14:24:03.158Z"
   },
   {
    "duration": 307,
    "start_time": "2024-08-24T14:24:05.537Z"
   },
   {
    "duration": 6,
    "start_time": "2024-08-24T14:25:56.337Z"
   },
   {
    "duration": 25,
    "start_time": "2024-08-24T14:26:35.918Z"
   },
   {
    "duration": 39,
    "start_time": "2024-08-24T14:26:47.157Z"
   },
   {
    "duration": 32,
    "start_time": "2024-08-24T14:26:51.062Z"
   },
   {
    "duration": 18530,
    "start_time": "2024-08-24T14:26:54.678Z"
   },
   {
    "duration": 73,
    "start_time": "2024-08-24T14:27:22.773Z"
   },
   {
    "duration": 66,
    "start_time": "2024-08-24T14:28:24.540Z"
   },
   {
    "duration": 8,
    "start_time": "2024-08-24T14:32:25.397Z"
   },
   {
    "duration": 111661,
    "start_time": "2024-08-24T14:40:51.343Z"
   },
   {
    "duration": 77,
    "start_time": "2024-08-24T14:43:32.022Z"
   },
   {
    "duration": 18565,
    "start_time": "2024-08-24T15:19:15.259Z"
   },
   {
    "duration": 81640,
    "start_time": "2024-08-24T15:21:03.687Z"
   },
   {
    "duration": 11,
    "start_time": "2024-08-24T15:23:17.382Z"
   },
   {
    "duration": 2122,
    "start_time": "2024-08-24T15:23:25.082Z"
   },
   {
    "duration": 2080,
    "start_time": "2024-08-24T15:26:11.063Z"
   },
   {
    "duration": 2151,
    "start_time": "2024-08-24T15:27:11.679Z"
   },
   {
    "duration": 1967,
    "start_time": "2024-08-24T15:29:00.423Z"
   },
   {
    "duration": 17,
    "start_time": "2024-08-24T15:29:34.763Z"
   },
   {
    "duration": 16,
    "start_time": "2024-08-24T15:29:46.423Z"
   },
   {
    "duration": 15,
    "start_time": "2024-08-24T15:29:52.043Z"
   },
   {
    "duration": 16,
    "start_time": "2024-08-24T15:29:55.623Z"
   },
   {
    "duration": 1911,
    "start_time": "2024-08-24T15:30:03.083Z"
   },
   {
    "duration": 30,
    "start_time": "2024-08-24T15:30:17.467Z"
   },
   {
    "duration": 11,
    "start_time": "2024-08-24T15:30:28.598Z"
   },
   {
    "duration": 5054,
    "start_time": "2024-08-24T16:25:51.077Z"
   },
   {
    "duration": 966,
    "start_time": "2024-08-24T16:25:56.136Z"
   },
   {
    "duration": 5,
    "start_time": "2024-08-24T16:25:57.105Z"
   },
   {
    "duration": 90,
    "start_time": "2024-08-24T16:26:01.470Z"
   },
   {
    "duration": 5076,
    "start_time": "2024-08-24T17:08:47.382Z"
   },
   {
    "duration": 940,
    "start_time": "2024-08-24T17:08:52.462Z"
   },
   {
    "duration": 6,
    "start_time": "2024-08-24T17:15:10.798Z"
   },
   {
    "duration": 5,
    "start_time": "2024-08-24T17:15:16.897Z"
   },
   {
    "duration": 802,
    "start_time": "2024-08-24T17:15:17.541Z"
   },
   {
    "duration": 5,
    "start_time": "2024-08-24T17:15:18.347Z"
   },
   {
    "duration": 275,
    "start_time": "2024-08-24T17:15:19.758Z"
   },
   {
    "duration": 20,
    "start_time": "2024-08-24T17:15:20.457Z"
   },
   {
    "duration": 7,
    "start_time": "2024-08-24T17:15:23.499Z"
   },
   {
    "duration": 24,
    "start_time": "2024-08-24T17:15:23.968Z"
   },
   {
    "duration": 6,
    "start_time": "2024-08-24T17:15:26.397Z"
   },
   {
    "duration": 8,
    "start_time": "2024-08-24T17:15:26.797Z"
   },
   {
    "duration": 31,
    "start_time": "2024-08-24T17:15:29.497Z"
   },
   {
    "duration": 21,
    "start_time": "2024-08-24T17:15:32.243Z"
   },
   {
    "duration": 20,
    "start_time": "2024-08-24T17:15:35.997Z"
   },
   {
    "duration": 2006,
    "start_time": "2024-08-24T17:15:43.020Z"
   },
   {
    "duration": 681,
    "start_time": "2024-08-24T17:15:49.424Z"
   },
   {
    "duration": 1140,
    "start_time": "2024-08-24T17:15:53.865Z"
   },
   {
    "duration": 32,
    "start_time": "2024-08-24T17:15:58.383Z"
   },
   {
    "duration": 4,
    "start_time": "2024-08-24T17:15:59.082Z"
   },
   {
    "duration": 1344,
    "start_time": "2024-08-24T17:15:59.538Z"
   },
   {
    "duration": 7,
    "start_time": "2024-08-24T17:16:07.962Z"
   },
   {
    "duration": 41,
    "start_time": "2024-08-24T17:16:09.017Z"
   },
   {
    "duration": 32,
    "start_time": "2024-08-24T17:16:09.908Z"
   },
   {
    "duration": 31,
    "start_time": "2024-08-24T17:16:14.859Z"
   },
   {
    "duration": 6,
    "start_time": "2024-08-24T17:16:17.218Z"
   },
   {
    "duration": 9,
    "start_time": "2024-08-24T17:16:25.377Z"
   },
   {
    "duration": 81870,
    "start_time": "2024-08-24T17:16:30.210Z"
   },
   {
    "duration": 463,
    "start_time": "2024-08-24T17:17:52.084Z"
   },
   {
    "duration": 49,
    "start_time": "2024-08-24T17:19:50.258Z"
   },
   {
    "duration": 35,
    "start_time": "2024-08-24T17:19:55.123Z"
   },
   {
    "duration": 77,
    "start_time": "2024-08-24T17:20:41.243Z"
   },
   {
    "duration": 13,
    "start_time": "2024-08-24T17:20:48.886Z"
   },
   {
    "duration": 1387,
    "start_time": "2024-08-26T11:42:23.927Z"
   },
   {
    "duration": 768,
    "start_time": "2024-08-26T11:42:26.066Z"
   },
   {
    "duration": 5,
    "start_time": "2024-08-26T11:42:27.277Z"
   },
   {
    "duration": 354,
    "start_time": "2024-08-26T11:42:27.654Z"
   },
   {
    "duration": 21,
    "start_time": "2024-08-26T11:42:28.315Z"
   },
   {
    "duration": 7,
    "start_time": "2024-08-26T11:42:28.492Z"
   },
   {
    "duration": 21,
    "start_time": "2024-08-26T11:42:28.647Z"
   },
   {
    "duration": 6,
    "start_time": "2024-08-26T11:42:28.867Z"
   },
   {
    "duration": 7,
    "start_time": "2024-08-26T11:42:29.430Z"
   },
   {
    "duration": 32,
    "start_time": "2024-08-26T11:42:29.747Z"
   },
   {
    "duration": 20,
    "start_time": "2024-08-26T11:42:29.907Z"
   },
   {
    "duration": 16,
    "start_time": "2024-08-26T11:42:30.344Z"
   },
   {
    "duration": 1920,
    "start_time": "2024-08-26T11:42:30.991Z"
   },
   {
    "duration": 708,
    "start_time": "2024-08-26T11:42:32.915Z"
   },
   {
    "duration": 1222,
    "start_time": "2024-08-26T11:42:33.626Z"
   },
   {
    "duration": 1131,
    "start_time": "2024-08-26T11:42:34.852Z"
   },
   {
    "duration": 38,
    "start_time": "2024-08-26T11:42:35.986Z"
   },
   {
    "duration": 4,
    "start_time": "2024-08-26T11:42:36.028Z"
   },
   {
    "duration": 1268,
    "start_time": "2024-08-26T11:42:36.037Z"
   },
   {
    "duration": 1277,
    "start_time": "2024-08-26T11:42:37.309Z"
   },
   {
    "duration": 5,
    "start_time": "2024-08-26T11:43:40.767Z"
   },
   {
    "duration": 47,
    "start_time": "2024-08-26T11:43:47.888Z"
   },
   {
    "duration": 16,
    "start_time": "2024-08-26T11:51:04.992Z"
   },
   {
    "duration": 41,
    "start_time": "2024-08-26T11:52:37.636Z"
   },
   {
    "duration": 154,
    "start_time": "2024-08-26T11:52:59.591Z"
   },
   {
    "duration": 8,
    "start_time": "2024-08-26T11:54:27.326Z"
   },
   {
    "duration": 937,
    "start_time": "2024-08-26T11:55:31.072Z"
   },
   {
    "duration": 6366,
    "start_time": "2024-08-26T11:56:32.271Z"
   },
   {
    "duration": 5974,
    "start_time": "2024-08-26T11:56:58.232Z"
   },
   {
    "duration": 2342,
    "start_time": "2024-08-26T11:57:21.672Z"
   },
   {
    "duration": 2425,
    "start_time": "2024-08-26T11:57:36.792Z"
   },
   {
    "duration": 11,
    "start_time": "2024-08-26T11:58:13.506Z"
   },
   {
    "duration": 8,
    "start_time": "2024-08-26T11:58:22.386Z"
   },
   {
    "duration": 8,
    "start_time": "2024-08-26T11:59:41.347Z"
   },
   {
    "duration": 6000,
    "start_time": "2024-08-26T11:59:46.273Z"
   },
   {
    "duration": 2320,
    "start_time": "2024-08-26T12:00:02.493Z"
   },
   {
    "duration": 7,
    "start_time": "2024-08-26T12:04:37.331Z"
   },
   {
    "duration": 5768,
    "start_time": "2024-08-26T12:05:27.531Z"
   },
   {
    "duration": 9,
    "start_time": "2024-08-26T12:06:05.551Z"
   },
   {
    "duration": 5757,
    "start_time": "2024-08-26T12:06:09.052Z"
   },
   {
    "duration": 8,
    "start_time": "2024-08-26T12:06:21.450Z"
   },
   {
    "duration": 6146,
    "start_time": "2024-08-26T12:06:25.887Z"
   },
   {
    "duration": 9,
    "start_time": "2024-08-26T12:08:21.612Z"
   },
   {
    "duration": 5781,
    "start_time": "2024-08-26T12:08:27.573Z"
   },
   {
    "duration": 9,
    "start_time": "2024-08-26T12:08:45.527Z"
   },
   {
    "duration": 5987,
    "start_time": "2024-08-26T12:08:47.661Z"
   },
   {
    "duration": 11,
    "start_time": "2024-08-26T12:09:13.126Z"
   },
   {
    "duration": 7,
    "start_time": "2024-08-26T12:13:51.073Z"
   },
   {
    "duration": 8,
    "start_time": "2024-08-26T12:14:40.186Z"
   },
   {
    "duration": 6000,
    "start_time": "2024-08-26T12:14:44.079Z"
   },
   {
    "duration": 2446,
    "start_time": "2024-08-26T12:14:51.677Z"
   },
   {
    "duration": 8,
    "start_time": "2024-08-26T12:17:54.686Z"
   },
   {
    "duration": 5974,
    "start_time": "2024-08-26T12:18:01.311Z"
   },
   {
    "duration": 2656,
    "start_time": "2024-08-26T12:18:24.167Z"
   },
   {
    "duration": 8,
    "start_time": "2024-08-26T12:18:38.228Z"
   },
   {
    "duration": 7,
    "start_time": "2024-08-26T12:19:16.250Z"
   },
   {
    "duration": 57,
    "start_time": "2024-08-26T12:19:30.786Z"
   },
   {
    "duration": 8,
    "start_time": "2024-08-26T12:19:39.826Z"
   },
   {
    "duration": 23,
    "start_time": "2024-08-26T12:31:34.527Z"
   },
   {
    "duration": 8,
    "start_time": "2024-08-26T12:31:45.146Z"
   },
   {
    "duration": 23,
    "start_time": "2024-08-26T12:31:53.349Z"
   },
   {
    "duration": 25,
    "start_time": "2024-08-26T12:32:41.246Z"
   },
   {
    "duration": 25,
    "start_time": "2024-08-26T12:33:10.207Z"
   },
   {
    "duration": 6,
    "start_time": "2024-08-26T12:33:19.807Z"
   },
   {
    "duration": 56,
    "start_time": "2024-08-26T12:33:26.847Z"
   },
   {
    "duration": 58,
    "start_time": "2024-08-26T12:33:43.729Z"
   },
   {
    "duration": 440,
    "start_time": "2024-08-26T14:27:00.046Z"
   },
   {
    "duration": 12,
    "start_time": "2024-08-26T14:27:33.927Z"
   },
   {
    "duration": 211,
    "start_time": "2024-08-26T14:27:41.766Z"
   },
   {
    "duration": 4,
    "start_time": "2024-08-26T14:29:09.570Z"
   },
   {
    "duration": 216,
    "start_time": "2024-08-26T14:29:14.011Z"
   },
   {
    "duration": 6,
    "start_time": "2024-08-26T14:29:33.667Z"
   },
   {
    "duration": 159,
    "start_time": "2024-08-26T14:29:35.506Z"
   },
   {
    "duration": 158,
    "start_time": "2024-08-26T14:40:08.367Z"
   },
   {
    "duration": 6,
    "start_time": "2024-08-26T14:41:35.326Z"
   },
   {
    "duration": 137,
    "start_time": "2024-08-26T14:41:57.347Z"
   },
   {
    "duration": 3,
    "start_time": "2024-08-28T18:06:06.816Z"
   },
   {
    "duration": 503,
    "start_time": "2024-08-28T18:06:10.263Z"
   },
   {
    "duration": 4,
    "start_time": "2024-08-28T18:06:11.466Z"
   },
   {
    "duration": 156,
    "start_time": "2024-08-28T18:06:12.226Z"
   },
   {
    "duration": 12,
    "start_time": "2024-08-28T18:06:12.842Z"
   },
   {
    "duration": 5,
    "start_time": "2024-08-28T18:06:13.501Z"
   },
   {
    "duration": 11,
    "start_time": "2024-08-28T18:06:13.782Z"
   },
   {
    "duration": 7,
    "start_time": "2024-08-28T18:06:13.991Z"
   },
   {
    "duration": 5,
    "start_time": "2024-08-28T18:06:14.348Z"
   },
   {
    "duration": 17,
    "start_time": "2024-08-28T18:06:15.031Z"
   },
   {
    "duration": 16,
    "start_time": "2024-08-28T18:06:15.476Z"
   },
   {
    "duration": 11,
    "start_time": "2024-08-28T18:06:16.106Z"
   },
   {
    "duration": 1134,
    "start_time": "2024-08-28T18:06:17.666Z"
   },
   {
    "duration": 396,
    "start_time": "2024-08-28T18:06:18.866Z"
   },
   {
    "duration": 682,
    "start_time": "2024-08-28T18:06:20.965Z"
   },
   {
    "duration": 593,
    "start_time": "2024-08-28T18:06:21.650Z"
   },
   {
    "duration": 16,
    "start_time": "2024-08-28T18:06:22.246Z"
   },
   {
    "duration": 3,
    "start_time": "2024-08-28T18:06:22.446Z"
   },
   {
    "duration": 799,
    "start_time": "2024-08-28T18:06:22.939Z"
   },
   {
    "duration": 719,
    "start_time": "2024-08-28T18:06:23.740Z"
   },
   {
    "duration": 4,
    "start_time": "2024-08-28T18:07:34.011Z"
   },
   {
    "duration": 21,
    "start_time": "2024-08-28T18:07:34.857Z"
   },
   {
    "duration": 14,
    "start_time": "2024-08-28T18:07:36.137Z"
   },
   {
    "duration": 10,
    "start_time": "2024-08-28T18:18:50.721Z"
   },
   {
    "duration": 915,
    "start_time": "2024-08-28T18:24:16.628Z"
   },
   {
    "duration": 72,
    "start_time": "2024-08-28T18:25:03.584Z"
   },
   {
    "duration": 65,
    "start_time": "2024-08-28T18:25:12.967Z"
   },
   {
    "duration": 8,
    "start_time": "2024-08-28T18:25:21.717Z"
   },
   {
    "duration": 5,
    "start_time": "2024-08-28T18:25:25.521Z"
   },
   {
    "duration": 95,
    "start_time": "2024-08-28T18:25:28.966Z"
   },
   {
    "duration": 558,
    "start_time": "2024-08-28T18:27:23.841Z"
   },
   {
    "duration": 6,
    "start_time": "2024-08-28T18:29:01.556Z"
   },
   {
    "duration": 3,
    "start_time": "2024-08-28T18:43:11.776Z"
   },
   {
    "duration": 5,
    "start_time": "2024-08-28T18:49:07.756Z"
   },
   {
    "duration": 418,
    "start_time": "2024-08-28T18:49:17.103Z"
   },
   {
    "duration": 6,
    "start_time": "2024-08-28T18:50:15.774Z"
   },
   {
    "duration": 8,
    "start_time": "2024-08-28T18:50:46.113Z"
   },
   {
    "duration": 9,
    "start_time": "2024-08-28T18:51:10.627Z"
   },
   {
    "duration": 9,
    "start_time": "2024-08-28T18:51:20.652Z"
   },
   {
    "duration": 42,
    "start_time": "2024-08-28T18:51:25.421Z"
   },
   {
    "duration": 7,
    "start_time": "2024-08-28T18:51:29.451Z"
   },
   {
    "duration": 106010,
    "start_time": "2024-08-28T18:51:34.247Z"
   },
   {
    "duration": 2259,
    "start_time": "2024-08-28T18:57:29.734Z"
   },
   {
    "duration": 5,
    "start_time": "2024-08-28T18:57:38.899Z"
   },
   {
    "duration": 9,
    "start_time": "2024-08-28T19:57:19.105Z"
   }
  ],
  "kernelspec": {
   "display_name": "Python 3 (ipykernel)",
   "language": "python",
   "name": "python3"
  },
  "language_info": {
   "codemirror_mode": {
    "name": "ipython",
    "version": 3
   },
   "file_extension": ".py",
   "mimetype": "text/x-python",
   "name": "python",
   "nbconvert_exporter": "python",
   "pygments_lexer": "ipython3",
   "version": "3.12.3"
  },
  "toc": {
   "base_numbering": 1,
   "nav_menu": {},
   "number_sections": true,
   "sideBar": true,
   "skip_h1_title": true,
   "title_cell": "Table of Contents",
   "title_sidebar": "Contents",
   "toc_cell": false,
   "toc_position": {},
   "toc_section_display": true,
   "toc_window_display": false
  }
 },
 "nbformat": 4,
 "nbformat_minor": 2
}
